{
 "cells": [
  {
   "cell_type": "markdown",
   "id": "9a1777a9",
   "metadata": {},
   "source": [
    "# Big data mart sales"
   ]
  },
  {
   "cell_type": "markdown",
   "id": "80171565",
   "metadata": {},
   "source": [
    "### Description"
   ]
  },
  {
   "cell_type": "markdown",
   "id": "28de5acd",
   "metadata": {},
   "source": [
    "The data scientists at BigMart have collected 2013 sales data for 1559 products across 10 stores in different cities. Also, certain attributes of each product and store have been defined. The aim is to build a predictive model and find out the sales of each product at a particular store.\n",
    "Using this model, BigMart will try to understand the properties of products and stores which play a key role in increasing the sales of their products."
   ]
  },
  {
   "cell_type": "code",
   "execution_count": 86,
   "id": "e73c03b2",
   "metadata": {},
   "outputs": [],
   "source": [
    "#Importing Necessary Libraries\n",
    "#Matplot and seaborn for making graphs\n",
    "%matplotlib notebook\n",
    "from sklearn.linear_model import Ridge\n",
    "from sklearn.model_selection import KFold, cross_val_score\n",
    "import featuretools as ft\n",
    "import numpy as np\n",
    "import pandas as pd\n",
    "from sklearn.model_selection import train_test_split\n",
    "from sklearn.preprocessing import LabelEncoder\n",
    "from scipy import stats\n",
    "import matplotlib.pyplot as plt\n",
    "from sklearn.model_selection import GridSearchCV\n",
    "from sklearn.model_selection import RandomizedSearchCV\n",
    "import seaborn as sns\n",
    "%matplotlib inline\n",
    "import warnings\n",
    "warnings.filterwarnings('ignore')\n",
    "from IPython.core.interactiveshell import InteractiveShell\n",
    "InteractiveShell.ast_node_interactivity = \"all\""
   ]
  },
  {
   "cell_type": "code",
   "execution_count": 87,
   "id": "f45ee349",
   "metadata": {},
   "outputs": [],
   "source": [
    "df_train=pd.read_csv(\"C:/Users/HP/anaconda3/DataScience/DataTrainedProjects/BigMart_train.csv\")\n",
    "df_test=pd.read_csv(\"C:/Users/HP/anaconda3/DataScience/DataTrainedProjects/BigMart_test.csv\")"
   ]
  },
  {
   "cell_type": "code",
   "execution_count": 88,
   "id": "bb759e22",
   "metadata": {},
   "outputs": [
    {
     "data": {
      "text/plain": [
       "(8523, 12)"
      ]
     },
     "execution_count": 88,
     "metadata": {},
     "output_type": "execute_result"
    },
    {
     "data": {
      "text/plain": [
       "(5681, 11)"
      ]
     },
     "execution_count": 88,
     "metadata": {},
     "output_type": "execute_result"
    }
   ],
   "source": [
    "df_train.shape\n",
    "df_test.shape"
   ]
  },
  {
   "cell_type": "code",
   "execution_count": 89,
   "id": "3ab84cfe",
   "metadata": {},
   "outputs": [],
   "source": [
    "def concat(X,Y):\n",
    "    df=pd.concat([X,Y],ignore_index=True)\n",
    "    return df"
   ]
  },
  {
   "cell_type": "code",
   "execution_count": 90,
   "id": "1dd0faa0",
   "metadata": {},
   "outputs": [
    {
     "data": {
      "text/plain": [
       "(14204, 12)"
      ]
     },
     "execution_count": 90,
     "metadata": {},
     "output_type": "execute_result"
    }
   ],
   "source": [
    "df=concat(df_train,df_test)\n",
    "df.shape"
   ]
  },
  {
   "cell_type": "code",
   "execution_count": 91,
   "id": "957cc83a",
   "metadata": {},
   "outputs": [
    {
     "data": {
      "text/html": [
       "<div>\n",
       "<style scoped>\n",
       "    .dataframe tbody tr th:only-of-type {\n",
       "        vertical-align: middle;\n",
       "    }\n",
       "\n",
       "    .dataframe tbody tr th {\n",
       "        vertical-align: top;\n",
       "    }\n",
       "\n",
       "    .dataframe thead th {\n",
       "        text-align: right;\n",
       "    }\n",
       "</style>\n",
       "<table border=\"1\" class=\"dataframe\">\n",
       "  <thead>\n",
       "    <tr style=\"text-align: right;\">\n",
       "      <th></th>\n",
       "      <th>Item_Identifier</th>\n",
       "      <th>Item_Weight</th>\n",
       "      <th>Item_Fat_Content</th>\n",
       "      <th>Item_Visibility</th>\n",
       "      <th>Item_Type</th>\n",
       "      <th>Item_MRP</th>\n",
       "      <th>Outlet_Identifier</th>\n",
       "      <th>Outlet_Establishment_Year</th>\n",
       "      <th>Outlet_Size</th>\n",
       "      <th>Outlet_Location_Type</th>\n",
       "      <th>Outlet_Type</th>\n",
       "      <th>Item_Outlet_Sales</th>\n",
       "    </tr>\n",
       "  </thead>\n",
       "  <tbody>\n",
       "    <tr>\n",
       "      <th>0</th>\n",
       "      <td>FDA15</td>\n",
       "      <td>9.30</td>\n",
       "      <td>Low Fat</td>\n",
       "      <td>0.016047</td>\n",
       "      <td>Dairy</td>\n",
       "      <td>249.8092</td>\n",
       "      <td>OUT049</td>\n",
       "      <td>1999</td>\n",
       "      <td>Medium</td>\n",
       "      <td>Tier 1</td>\n",
       "      <td>Supermarket Type1</td>\n",
       "      <td>3735.1380</td>\n",
       "    </tr>\n",
       "    <tr>\n",
       "      <th>1</th>\n",
       "      <td>DRC01</td>\n",
       "      <td>5.92</td>\n",
       "      <td>Regular</td>\n",
       "      <td>0.019278</td>\n",
       "      <td>Soft Drinks</td>\n",
       "      <td>48.2692</td>\n",
       "      <td>OUT018</td>\n",
       "      <td>2009</td>\n",
       "      <td>Medium</td>\n",
       "      <td>Tier 3</td>\n",
       "      <td>Supermarket Type2</td>\n",
       "      <td>443.4228</td>\n",
       "    </tr>\n",
       "    <tr>\n",
       "      <th>2</th>\n",
       "      <td>FDN15</td>\n",
       "      <td>17.50</td>\n",
       "      <td>Low Fat</td>\n",
       "      <td>0.016760</td>\n",
       "      <td>Meat</td>\n",
       "      <td>141.6180</td>\n",
       "      <td>OUT049</td>\n",
       "      <td>1999</td>\n",
       "      <td>Medium</td>\n",
       "      <td>Tier 1</td>\n",
       "      <td>Supermarket Type1</td>\n",
       "      <td>2097.2700</td>\n",
       "    </tr>\n",
       "    <tr>\n",
       "      <th>3</th>\n",
       "      <td>FDX07</td>\n",
       "      <td>19.20</td>\n",
       "      <td>Regular</td>\n",
       "      <td>0.000000</td>\n",
       "      <td>Fruits and Vegetables</td>\n",
       "      <td>182.0950</td>\n",
       "      <td>OUT010</td>\n",
       "      <td>1998</td>\n",
       "      <td>NaN</td>\n",
       "      <td>Tier 3</td>\n",
       "      <td>Grocery Store</td>\n",
       "      <td>732.3800</td>\n",
       "    </tr>\n",
       "    <tr>\n",
       "      <th>4</th>\n",
       "      <td>NCD19</td>\n",
       "      <td>8.93</td>\n",
       "      <td>Low Fat</td>\n",
       "      <td>0.000000</td>\n",
       "      <td>Household</td>\n",
       "      <td>53.8614</td>\n",
       "      <td>OUT013</td>\n",
       "      <td>1987</td>\n",
       "      <td>High</td>\n",
       "      <td>Tier 3</td>\n",
       "      <td>Supermarket Type1</td>\n",
       "      <td>994.7052</td>\n",
       "    </tr>\n",
       "  </tbody>\n",
       "</table>\n",
       "</div>"
      ],
      "text/plain": [
       "  Item_Identifier  Item_Weight Item_Fat_Content  Item_Visibility  \\\n",
       "0           FDA15         9.30          Low Fat         0.016047   \n",
       "1           DRC01         5.92          Regular         0.019278   \n",
       "2           FDN15        17.50          Low Fat         0.016760   \n",
       "3           FDX07        19.20          Regular         0.000000   \n",
       "4           NCD19         8.93          Low Fat         0.000000   \n",
       "\n",
       "               Item_Type  Item_MRP Outlet_Identifier  \\\n",
       "0                  Dairy  249.8092            OUT049   \n",
       "1            Soft Drinks   48.2692            OUT018   \n",
       "2                   Meat  141.6180            OUT049   \n",
       "3  Fruits and Vegetables  182.0950            OUT010   \n",
       "4              Household   53.8614            OUT013   \n",
       "\n",
       "   Outlet_Establishment_Year Outlet_Size Outlet_Location_Type  \\\n",
       "0                       1999      Medium               Tier 1   \n",
       "1                       2009      Medium               Tier 3   \n",
       "2                       1999      Medium               Tier 1   \n",
       "3                       1998         NaN               Tier 3   \n",
       "4                       1987        High               Tier 3   \n",
       "\n",
       "         Outlet_Type  Item_Outlet_Sales  \n",
       "0  Supermarket Type1          3735.1380  \n",
       "1  Supermarket Type2           443.4228  \n",
       "2  Supermarket Type1          2097.2700  \n",
       "3      Grocery Store           732.3800  \n",
       "4  Supermarket Type1           994.7052  "
      ]
     },
     "execution_count": 91,
     "metadata": {},
     "output_type": "execute_result"
    }
   ],
   "source": [
    "df.head()"
   ]
  },
  {
   "cell_type": "code",
   "execution_count": 92,
   "id": "5c10cacb",
   "metadata": {},
   "outputs": [],
   "source": [
    "Cat_var=['Item_Fat_content','Item_Type','Outlet_Identifier','Outlet_Size','Outlet_Location_Type','Outlet_Type']"
   ]
  },
  {
   "cell_type": "code",
   "execution_count": 93,
   "id": "943547d7",
   "metadata": {},
   "outputs": [
    {
     "data": {
      "text/plain": [
       "Item_Identifier                 0\n",
       "Item_Weight                  2439\n",
       "Item_Fat_Content                0\n",
       "Item_Visibility                 0\n",
       "Item_Type                       0\n",
       "Item_MRP                        0\n",
       "Outlet_Identifier               0\n",
       "Outlet_Establishment_Year       0\n",
       "Outlet_Size                  4016\n",
       "Outlet_Location_Type            0\n",
       "Outlet_Type                     0\n",
       "Item_Outlet_Sales            5681\n",
       "dtype: int64"
      ]
     },
     "execution_count": 93,
     "metadata": {},
     "output_type": "execute_result"
    }
   ],
   "source": [
    "#Checks number of null values for all the variables\n",
    "df.isnull().sum()\n",
    "#Item_Weight has 2439 null values \n",
    "#Outlet Size has 4016 null valuesdf.isnull().sum()"
   ]
  },
  {
   "cell_type": "code",
   "execution_count": 94,
   "id": "e2f84ca8",
   "metadata": {},
   "outputs": [
    {
     "data": {
      "text/plain": [
       "Item_Identifier               1559\n",
       "Item_Weight                    415\n",
       "Item_Fat_Content                 5\n",
       "Item_Visibility              13006\n",
       "Item_Type                       16\n",
       "Item_MRP                      8052\n",
       "Outlet_Identifier               10\n",
       "Outlet_Establishment_Year        9\n",
       "Outlet_Size                      3\n",
       "Outlet_Location_Type             3\n",
       "Outlet_Type                      4\n",
       "Item_Outlet_Sales             3493\n",
       "dtype: int64"
      ]
     },
     "execution_count": 94,
     "metadata": {},
     "output_type": "execute_result"
    }
   ],
   "source": [
    "#Checks the number of unique entries correspnding to each variable\n",
    "df.nunique()"
   ]
  },
  {
   "cell_type": "code",
   "execution_count": 95,
   "id": "e9964a64",
   "metadata": {},
   "outputs": [],
   "source": [
    "#defining a function:\n",
    "#frequency of unique entries in each columns with their names\n",
    "\n",
    "def frequency_of_each_item(X,Y):\n",
    "    for i in Y:\n",
    "        print(\"frequency of each category for\",i)\n",
    "        print(X[i].value_counts())"
   ]
  },
  {
   "cell_type": "code",
   "execution_count": 97,
   "id": "d2ab0f0c",
   "metadata": {},
   "outputs": [
    {
     "name": "stdout",
     "output_type": "stream",
     "text": [
      "frequency of each category for Item_Fat_Content\n",
      "Low Fat    8485\n",
      "Regular    4824\n",
      "LF          522\n",
      "reg         195\n",
      "low fat     178\n",
      "Name: Item_Fat_Content, dtype: int64\n",
      "frequency of each category for Item_Type\n",
      "Fruits and Vegetables    2013\n",
      "Snack Foods              1989\n",
      "Household                1548\n",
      "Frozen Foods             1426\n",
      "Dairy                    1136\n",
      "Baking Goods             1086\n",
      "Canned                   1084\n",
      "Health and Hygiene        858\n",
      "Meat                      736\n",
      "Soft Drinks               726\n",
      "Breads                    416\n",
      "Hard Drinks               362\n",
      "Others                    280\n",
      "Starchy Foods             269\n",
      "Breakfast                 186\n",
      "Seafood                    89\n",
      "Name: Item_Type, dtype: int64\n",
      "frequency of each category for Outlet_Location_Type\n",
      "Tier 3    5583\n",
      "Tier 2    4641\n",
      "Tier 1    3980\n",
      "Name: Outlet_Location_Type, dtype: int64\n",
      "frequency of each category for Outlet_Size\n",
      "Medium    4655\n",
      "Small     3980\n",
      "High      1553\n",
      "Name: Outlet_Size, dtype: int64\n",
      "frequency of each category for Outlet_Type\n",
      "Supermarket Type1    9294\n",
      "Grocery Store        1805\n",
      "Supermarket Type3    1559\n",
      "Supermarket Type2    1546\n",
      "Name: Outlet_Type, dtype: int64\n"
     ]
    }
   ],
   "source": [
    "#frequency of unique entries in each columns with their names\n",
    "category=['Item_Fat_Content','Item_Type','Outlet_Location_Type','Outlet_Size','Outlet_Type']\n",
    "frequency_of_each_item(df,category)"
   ]
  },
  {
   "cell_type": "code",
   "execution_count": 101,
   "id": "41fcf3b0",
   "metadata": {},
   "outputs": [
    {
     "name": "stdout",
     "output_type": "stream",
     "text": [
      "                  Outlet_Size\n",
      "Outlet_Type                  \n",
      "Grocery Store           Small\n",
      "Supermarket Type1       Small\n",
      "Supermarket Type2      Medium\n",
      "Supermarket Type3      Medium\n"
     ]
    },
    {
     "data": {
      "text/plain": [
       "0"
      ]
     },
     "execution_count": 101,
     "metadata": {},
     "output_type": "execute_result"
    }
   ],
   "source": [
    "#filling Null values in Outlet size to mode\n",
    "Outlet_Size_mode=df.pivot_table(values='Outlet_Size', index='Outlet_Type',aggfunc=(lambda x: stats.mode(x)[0]),dropna=True)\n",
    "print(Outlet_Size_mode)\n",
    "bool=df['Outlet_Type'].isnull()\n",
    "df['Outlet_Size'][bool]=df['Outlet_Type'][bool].apply(lambda x : Outlet_Size_mode.loc[x]).values\n",
    "sum(df['Outlet_Size'].isnull())"
   ]
  },
  {
   "cell_type": "code",
   "execution_count": 102,
   "id": "66a701ff",
   "metadata": {},
   "outputs": [
    {
     "data": {
      "text/plain": [
       "Low Fat    9185\n",
       "Regular    5019\n",
       "Name: Item_Fat_Content, dtype: int64"
      ]
     },
     "execution_count": 102,
     "metadata": {},
     "output_type": "execute_result"
    },
    {
     "data": {
      "text/html": [
       "<div>\n",
       "<style scoped>\n",
       "    .dataframe tbody tr th:only-of-type {\n",
       "        vertical-align: middle;\n",
       "    }\n",
       "\n",
       "    .dataframe tbody tr th {\n",
       "        vertical-align: top;\n",
       "    }\n",
       "\n",
       "    .dataframe thead th {\n",
       "        text-align: right;\n",
       "    }\n",
       "</style>\n",
       "<table border=\"1\" class=\"dataframe\">\n",
       "  <thead>\n",
       "    <tr style=\"text-align: right;\">\n",
       "      <th></th>\n",
       "      <th>Item_Identifier</th>\n",
       "      <th>Item_Weight</th>\n",
       "      <th>Item_Fat_Content</th>\n",
       "      <th>Item_Visibility</th>\n",
       "      <th>Item_Type</th>\n",
       "      <th>Item_MRP</th>\n",
       "      <th>Outlet_Identifier</th>\n",
       "      <th>Outlet_Establishment_Year</th>\n",
       "      <th>Outlet_Size</th>\n",
       "      <th>Outlet_Location_Type</th>\n",
       "      <th>Outlet_Type</th>\n",
       "      <th>Item_Outlet_Sales</th>\n",
       "    </tr>\n",
       "  </thead>\n",
       "  <tbody>\n",
       "    <tr>\n",
       "      <th>0</th>\n",
       "      <td>FDA15</td>\n",
       "      <td>9.30</td>\n",
       "      <td>Low Fat</td>\n",
       "      <td>0.016047</td>\n",
       "      <td>Dairy</td>\n",
       "      <td>249.8092</td>\n",
       "      <td>OUT049</td>\n",
       "      <td>1999</td>\n",
       "      <td>Small</td>\n",
       "      <td>Tier 1</td>\n",
       "      <td>Supermarket Type1</td>\n",
       "      <td>3735.1380</td>\n",
       "    </tr>\n",
       "    <tr>\n",
       "      <th>1</th>\n",
       "      <td>DRC01</td>\n",
       "      <td>5.92</td>\n",
       "      <td>Regular</td>\n",
       "      <td>0.019278</td>\n",
       "      <td>Soft Drinks</td>\n",
       "      <td>48.2692</td>\n",
       "      <td>OUT018</td>\n",
       "      <td>2009</td>\n",
       "      <td>Medium</td>\n",
       "      <td>Tier 3</td>\n",
       "      <td>Supermarket Type2</td>\n",
       "      <td>443.4228</td>\n",
       "    </tr>\n",
       "    <tr>\n",
       "      <th>2</th>\n",
       "      <td>FDN15</td>\n",
       "      <td>17.50</td>\n",
       "      <td>Low Fat</td>\n",
       "      <td>0.016760</td>\n",
       "      <td>Meat</td>\n",
       "      <td>141.6180</td>\n",
       "      <td>OUT049</td>\n",
       "      <td>1999</td>\n",
       "      <td>Small</td>\n",
       "      <td>Tier 1</td>\n",
       "      <td>Supermarket Type1</td>\n",
       "      <td>2097.2700</td>\n",
       "    </tr>\n",
       "    <tr>\n",
       "      <th>3</th>\n",
       "      <td>FDX07</td>\n",
       "      <td>19.20</td>\n",
       "      <td>Regular</td>\n",
       "      <td>0.000000</td>\n",
       "      <td>Fruits and Vegetables</td>\n",
       "      <td>182.0950</td>\n",
       "      <td>OUT010</td>\n",
       "      <td>1998</td>\n",
       "      <td>Small</td>\n",
       "      <td>Tier 3</td>\n",
       "      <td>Grocery Store</td>\n",
       "      <td>732.3800</td>\n",
       "    </tr>\n",
       "    <tr>\n",
       "      <th>4</th>\n",
       "      <td>NCD19</td>\n",
       "      <td>8.93</td>\n",
       "      <td>Low Fat</td>\n",
       "      <td>0.000000</td>\n",
       "      <td>Household</td>\n",
       "      <td>53.8614</td>\n",
       "      <td>OUT013</td>\n",
       "      <td>1987</td>\n",
       "      <td>Small</td>\n",
       "      <td>Tier 3</td>\n",
       "      <td>Supermarket Type1</td>\n",
       "      <td>994.7052</td>\n",
       "    </tr>\n",
       "  </tbody>\n",
       "</table>\n",
       "</div>"
      ],
      "text/plain": [
       "  Item_Identifier  Item_Weight Item_Fat_Content  Item_Visibility  \\\n",
       "0           FDA15         9.30          Low Fat         0.016047   \n",
       "1           DRC01         5.92          Regular         0.019278   \n",
       "2           FDN15        17.50          Low Fat         0.016760   \n",
       "3           FDX07        19.20          Regular         0.000000   \n",
       "4           NCD19         8.93          Low Fat         0.000000   \n",
       "\n",
       "               Item_Type  Item_MRP Outlet_Identifier  \\\n",
       "0                  Dairy  249.8092            OUT049   \n",
       "1            Soft Drinks   48.2692            OUT018   \n",
       "2                   Meat  141.6180            OUT049   \n",
       "3  Fruits and Vegetables  182.0950            OUT010   \n",
       "4              Household   53.8614            OUT013   \n",
       "\n",
       "   Outlet_Establishment_Year Outlet_Size Outlet_Location_Type  \\\n",
       "0                       1999       Small               Tier 1   \n",
       "1                       2009      Medium               Tier 3   \n",
       "2                       1999       Small               Tier 1   \n",
       "3                       1998       Small               Tier 3   \n",
       "4                       1987       Small               Tier 3   \n",
       "\n",
       "         Outlet_Type  Item_Outlet_Sales  \n",
       "0  Supermarket Type1          3735.1380  \n",
       "1  Supermarket Type2           443.4228  \n",
       "2  Supermarket Type1          2097.2700  \n",
       "3      Grocery Store           732.3800  \n",
       "4  Supermarket Type1           994.7052  "
      ]
     },
     "execution_count": 102,
     "metadata": {},
     "output_type": "execute_result"
    }
   ],
   "source": [
    "# Correcting the mis-written datas\n",
    "df['Item_Fat_Content'].replace(to_replace =['low fat','reg','LF'], \n",
    "                               value =['Low Fat','Regular','Low Fat'],inplace=True)\n",
    "df['Item_Fat_Content'].value_counts()\n",
    "df.head()"
   ]
  },
  {
   "cell_type": "code",
   "execution_count": 103,
   "id": "c09df862",
   "metadata": {},
   "outputs": [
    {
     "name": "stdout",
     "output_type": "stream",
     "text": [
      "                       mean\n",
      "                Item_Weight\n",
      "Item_Identifier            \n",
      "DRA12                11.600\n",
      "DRA24                19.350\n",
      "DRA59                 8.270\n",
      "DRB01                 7.390\n",
      "DRB13                 6.115\n",
      "...                     ...\n",
      "NCZ30                 6.590\n",
      "NCZ41                19.850\n",
      "NCZ42                10.500\n",
      "NCZ53                 9.600\n",
      "NCZ54                14.650\n",
      "\n",
      "[1559 rows x 1 columns]\n"
     ]
    },
    {
     "data": {
      "text/plain": [
       "0"
      ]
     },
     "execution_count": 103,
     "metadata": {},
     "output_type": "execute_result"
    }
   ],
   "source": [
    "#filling Null values in the Item Weight to mean value\n",
    "item_weight_mean=df.pivot_table(values='Item_Weight', index='Item_Identifier',aggfunc=[np.mean],dropna=True)\n",
    "print(item_weight_mean)\n",
    "df['Item_Weight']=df['Item_Identifier'].apply(lambda x :item_weight_mean.loc[x]).values\n",
    "sum(df['Item_Weight'].isnull())"
   ]
  },
  {
   "cell_type": "code",
   "execution_count": 104,
   "id": "97b8705a",
   "metadata": {},
   "outputs": [
    {
     "data": {
      "text/html": [
       "<div>\n",
       "<style scoped>\n",
       "    .dataframe tbody tr th:only-of-type {\n",
       "        vertical-align: middle;\n",
       "    }\n",
       "\n",
       "    .dataframe tbody tr th {\n",
       "        vertical-align: top;\n",
       "    }\n",
       "\n",
       "    .dataframe thead th {\n",
       "        text-align: right;\n",
       "    }\n",
       "</style>\n",
       "<table border=\"1\" class=\"dataframe\">\n",
       "  <thead>\n",
       "    <tr style=\"text-align: right;\">\n",
       "      <th></th>\n",
       "      <th>Item_Identifier</th>\n",
       "      <th>Item_Weight</th>\n",
       "      <th>Item_Fat_Content</th>\n",
       "      <th>Item_Visibility</th>\n",
       "      <th>Item_MRP</th>\n",
       "      <th>Outlet_Identifier</th>\n",
       "      <th>Outlet_Establishment_Year</th>\n",
       "      <th>Outlet_Size</th>\n",
       "      <th>Outlet_Location_Type</th>\n",
       "      <th>Outlet_Type</th>\n",
       "      <th>Item_Outlet_Sales</th>\n",
       "      <th>Item_Type_combined</th>\n",
       "    </tr>\n",
       "  </thead>\n",
       "  <tbody>\n",
       "    <tr>\n",
       "      <th>0</th>\n",
       "      <td>FDA15</td>\n",
       "      <td>9.30</td>\n",
       "      <td>Low Fat</td>\n",
       "      <td>0.016047</td>\n",
       "      <td>249.8092</td>\n",
       "      <td>OUT049</td>\n",
       "      <td>1999</td>\n",
       "      <td>Small</td>\n",
       "      <td>Tier 1</td>\n",
       "      <td>Supermarket Type1</td>\n",
       "      <td>3735.1380</td>\n",
       "      <td>Food</td>\n",
       "    </tr>\n",
       "    <tr>\n",
       "      <th>1</th>\n",
       "      <td>DRC01</td>\n",
       "      <td>5.92</td>\n",
       "      <td>Regular</td>\n",
       "      <td>0.019278</td>\n",
       "      <td>48.2692</td>\n",
       "      <td>OUT018</td>\n",
       "      <td>2009</td>\n",
       "      <td>Medium</td>\n",
       "      <td>Tier 3</td>\n",
       "      <td>Supermarket Type2</td>\n",
       "      <td>443.4228</td>\n",
       "      <td>Drinks</td>\n",
       "    </tr>\n",
       "    <tr>\n",
       "      <th>2</th>\n",
       "      <td>FDN15</td>\n",
       "      <td>17.50</td>\n",
       "      <td>Low Fat</td>\n",
       "      <td>0.016760</td>\n",
       "      <td>141.6180</td>\n",
       "      <td>OUT049</td>\n",
       "      <td>1999</td>\n",
       "      <td>Small</td>\n",
       "      <td>Tier 1</td>\n",
       "      <td>Supermarket Type1</td>\n",
       "      <td>2097.2700</td>\n",
       "      <td>Food</td>\n",
       "    </tr>\n",
       "    <tr>\n",
       "      <th>3</th>\n",
       "      <td>FDX07</td>\n",
       "      <td>19.20</td>\n",
       "      <td>Regular</td>\n",
       "      <td>0.000000</td>\n",
       "      <td>182.0950</td>\n",
       "      <td>OUT010</td>\n",
       "      <td>1998</td>\n",
       "      <td>Small</td>\n",
       "      <td>Tier 3</td>\n",
       "      <td>Grocery Store</td>\n",
       "      <td>732.3800</td>\n",
       "      <td>Food</td>\n",
       "    </tr>\n",
       "    <tr>\n",
       "      <th>4</th>\n",
       "      <td>NCD19</td>\n",
       "      <td>8.93</td>\n",
       "      <td>Low Fat</td>\n",
       "      <td>0.000000</td>\n",
       "      <td>53.8614</td>\n",
       "      <td>OUT013</td>\n",
       "      <td>1987</td>\n",
       "      <td>Small</td>\n",
       "      <td>Tier 3</td>\n",
       "      <td>Supermarket Type1</td>\n",
       "      <td>994.7052</td>\n",
       "      <td>Non_consumable</td>\n",
       "    </tr>\n",
       "  </tbody>\n",
       "</table>\n",
       "</div>"
      ],
      "text/plain": [
       "  Item_Identifier  Item_Weight Item_Fat_Content  Item_Visibility  Item_MRP  \\\n",
       "0           FDA15         9.30          Low Fat         0.016047  249.8092   \n",
       "1           DRC01         5.92          Regular         0.019278   48.2692   \n",
       "2           FDN15        17.50          Low Fat         0.016760  141.6180   \n",
       "3           FDX07        19.20          Regular         0.000000  182.0950   \n",
       "4           NCD19         8.93          Low Fat         0.000000   53.8614   \n",
       "\n",
       "  Outlet_Identifier  Outlet_Establishment_Year Outlet_Size  \\\n",
       "0            OUT049                       1999       Small   \n",
       "1            OUT018                       2009      Medium   \n",
       "2            OUT049                       1999       Small   \n",
       "3            OUT010                       1998       Small   \n",
       "4            OUT013                       1987       Small   \n",
       "\n",
       "  Outlet_Location_Type        Outlet_Type  Item_Outlet_Sales  \\\n",
       "0               Tier 1  Supermarket Type1          3735.1380   \n",
       "1               Tier 3  Supermarket Type2           443.4228   \n",
       "2               Tier 1  Supermarket Type1          2097.2700   \n",
       "3               Tier 3      Grocery Store           732.3800   \n",
       "4               Tier 3  Supermarket Type1           994.7052   \n",
       "\n",
       "  Item_Type_combined  \n",
       "0               Food  \n",
       "1             Drinks  \n",
       "2               Food  \n",
       "3               Food  \n",
       "4     Non_consumable  "
      ]
     },
     "execution_count": 104,
     "metadata": {},
     "output_type": "execute_result"
    }
   ],
   "source": [
    "#Reducing food category to only 3 types with the help of the first 2 alphabets of the Item_Identifier column\n",
    "\n",
    "df['Item_Type_combined']=df['Item_Identifier'].apply(lambda x : x[0:2])\n",
    "df['Item_Type_combined'].replace(to_replace =['FD','DR','NC'], \n",
    "                 value =['Food','Drinks','Non_consumable'],inplace=True)\n",
    " #dropping the redundant column\n",
    "df=df.drop(columns=['Item_Type'])     \n",
    "df.head()"
   ]
  },
  {
   "cell_type": "code",
   "execution_count": 105,
   "id": "2318e955",
   "metadata": {},
   "outputs": [
    {
     "data": {
      "text/plain": [
       "Low Fat       6499\n",
       "Regular       5019\n",
       "Non_edible    2686\n",
       "Name: Item_Fat_Content, dtype: int64"
      ]
     },
     "execution_count": 105,
     "metadata": {},
     "output_type": "execute_result"
    }
   ],
   "source": [
    "#Calculating number of Item_fat_contents that are also non_consumable\n",
    "\n",
    "bool=df['Item_Type_combined']=='Non_consumable'\n",
    "df['Item_Fat_Content'][bool]='Non_edible'\n",
    "df['Item_Fat_Content'].value_counts()"
   ]
  },
  {
   "cell_type": "code",
   "execution_count": 106,
   "id": "068a641c",
   "metadata": {},
   "outputs": [
    {
     "data": {
      "text/html": [
       "<div>\n",
       "<style scoped>\n",
       "    .dataframe tbody tr th:only-of-type {\n",
       "        vertical-align: middle;\n",
       "    }\n",
       "\n",
       "    .dataframe tbody tr th {\n",
       "        vertical-align: top;\n",
       "    }\n",
       "\n",
       "    .dataframe thead th {\n",
       "        text-align: right;\n",
       "    }\n",
       "</style>\n",
       "<table border=\"1\" class=\"dataframe\">\n",
       "  <thead>\n",
       "    <tr style=\"text-align: right;\">\n",
       "      <th></th>\n",
       "      <th>Item_Identifier</th>\n",
       "      <th>Item_Weight</th>\n",
       "      <th>Item_Fat_Content</th>\n",
       "      <th>Item_Visibility</th>\n",
       "      <th>Item_MRP</th>\n",
       "      <th>Outlet_Identifier</th>\n",
       "      <th>Outlet_Size</th>\n",
       "      <th>Outlet_Location_Type</th>\n",
       "      <th>Outlet_Type</th>\n",
       "      <th>Item_Outlet_Sales</th>\n",
       "      <th>Item_Type_combined</th>\n",
       "      <th>yearsold</th>\n",
       "    </tr>\n",
       "  </thead>\n",
       "  <tbody>\n",
       "    <tr>\n",
       "      <th>0</th>\n",
       "      <td>FDA15</td>\n",
       "      <td>9.30</td>\n",
       "      <td>Low Fat</td>\n",
       "      <td>0.016047</td>\n",
       "      <td>249.8092</td>\n",
       "      <td>OUT049</td>\n",
       "      <td>Small</td>\n",
       "      <td>Tier 1</td>\n",
       "      <td>Supermarket Type1</td>\n",
       "      <td>3735.1380</td>\n",
       "      <td>Food</td>\n",
       "      <td>14</td>\n",
       "    </tr>\n",
       "    <tr>\n",
       "      <th>1</th>\n",
       "      <td>DRC01</td>\n",
       "      <td>5.92</td>\n",
       "      <td>Regular</td>\n",
       "      <td>0.019278</td>\n",
       "      <td>48.2692</td>\n",
       "      <td>OUT018</td>\n",
       "      <td>Medium</td>\n",
       "      <td>Tier 3</td>\n",
       "      <td>Supermarket Type2</td>\n",
       "      <td>443.4228</td>\n",
       "      <td>Drinks</td>\n",
       "      <td>4</td>\n",
       "    </tr>\n",
       "    <tr>\n",
       "      <th>2</th>\n",
       "      <td>FDN15</td>\n",
       "      <td>17.50</td>\n",
       "      <td>Low Fat</td>\n",
       "      <td>0.016760</td>\n",
       "      <td>141.6180</td>\n",
       "      <td>OUT049</td>\n",
       "      <td>Small</td>\n",
       "      <td>Tier 1</td>\n",
       "      <td>Supermarket Type1</td>\n",
       "      <td>2097.2700</td>\n",
       "      <td>Food</td>\n",
       "      <td>14</td>\n",
       "    </tr>\n",
       "    <tr>\n",
       "      <th>3</th>\n",
       "      <td>FDX07</td>\n",
       "      <td>19.20</td>\n",
       "      <td>Regular</td>\n",
       "      <td>0.000000</td>\n",
       "      <td>182.0950</td>\n",
       "      <td>OUT010</td>\n",
       "      <td>Small</td>\n",
       "      <td>Tier 3</td>\n",
       "      <td>Grocery Store</td>\n",
       "      <td>732.3800</td>\n",
       "      <td>Food</td>\n",
       "      <td>15</td>\n",
       "    </tr>\n",
       "    <tr>\n",
       "      <th>4</th>\n",
       "      <td>NCD19</td>\n",
       "      <td>8.93</td>\n",
       "      <td>Non_edible</td>\n",
       "      <td>0.000000</td>\n",
       "      <td>53.8614</td>\n",
       "      <td>OUT013</td>\n",
       "      <td>Small</td>\n",
       "      <td>Tier 3</td>\n",
       "      <td>Supermarket Type1</td>\n",
       "      <td>994.7052</td>\n",
       "      <td>Non_consumable</td>\n",
       "      <td>26</td>\n",
       "    </tr>\n",
       "  </tbody>\n",
       "</table>\n",
       "</div>"
      ],
      "text/plain": [
       "  Item_Identifier  Item_Weight Item_Fat_Content  Item_Visibility  Item_MRP  \\\n",
       "0           FDA15         9.30          Low Fat         0.016047  249.8092   \n",
       "1           DRC01         5.92          Regular         0.019278   48.2692   \n",
       "2           FDN15        17.50          Low Fat         0.016760  141.6180   \n",
       "3           FDX07        19.20          Regular         0.000000  182.0950   \n",
       "4           NCD19         8.93       Non_edible         0.000000   53.8614   \n",
       "\n",
       "  Outlet_Identifier Outlet_Size Outlet_Location_Type        Outlet_Type  \\\n",
       "0            OUT049       Small               Tier 1  Supermarket Type1   \n",
       "1            OUT018      Medium               Tier 3  Supermarket Type2   \n",
       "2            OUT049       Small               Tier 1  Supermarket Type1   \n",
       "3            OUT010       Small               Tier 3      Grocery Store   \n",
       "4            OUT013       Small               Tier 3  Supermarket Type1   \n",
       "\n",
       "   Item_Outlet_Sales Item_Type_combined  yearsold  \n",
       "0          3735.1380               Food        14  \n",
       "1           443.4228             Drinks         4  \n",
       "2          2097.2700               Food        14  \n",
       "3           732.3800               Food        15  \n",
       "4           994.7052     Non_consumable        26  "
      ]
     },
     "execution_count": 106,
     "metadata": {},
     "output_type": "execute_result"
    }
   ],
   "source": [
    "#Using feature Engineering and adding new column\n",
    "df['yearsold']=2013-df['Outlet_Establishment_Year']\n",
    "df=df.drop(columns=['Outlet_Establishment_Year'])\n",
    "df.head()"
   ]
  },
  {
   "cell_type": "code",
   "execution_count": 107,
   "id": "9057406f",
   "metadata": {},
   "outputs": [
    {
     "name": "stdout",
     "output_type": "stream",
     "text": [
      "                           mean\n",
      "                Item_Visibility\n",
      "Item_Identifier                \n",
      "DRA12                  0.034938\n",
      "DRA24                  0.045646\n",
      "DRA59                  0.133384\n",
      "DRB01                  0.079736\n",
      "DRB13                  0.006799\n",
      "...                         ...\n",
      "NCZ30                  0.027302\n",
      "NCZ41                  0.056396\n",
      "NCZ42                  0.011015\n",
      "NCZ53                  0.026330\n",
      "NCZ54                  0.081345\n",
      "\n",
      "[1559 rows x 1 columns]\n"
     ]
    },
    {
     "data": {
      "text/html": [
       "<div>\n",
       "<style scoped>\n",
       "    .dataframe tbody tr th:only-of-type {\n",
       "        vertical-align: middle;\n",
       "    }\n",
       "\n",
       "    .dataframe tbody tr th {\n",
       "        vertical-align: top;\n",
       "    }\n",
       "\n",
       "    .dataframe thead th {\n",
       "        text-align: right;\n",
       "    }\n",
       "</style>\n",
       "<table border=\"1\" class=\"dataframe\">\n",
       "  <thead>\n",
       "    <tr style=\"text-align: right;\">\n",
       "      <th></th>\n",
       "      <th>Item_Identifier</th>\n",
       "      <th>Item_Weight</th>\n",
       "      <th>Item_Fat_Content</th>\n",
       "      <th>Item_Visibility</th>\n",
       "      <th>Item_MRP</th>\n",
       "      <th>Outlet_Identifier</th>\n",
       "      <th>Outlet_Size</th>\n",
       "      <th>Outlet_Location_Type</th>\n",
       "      <th>Outlet_Type</th>\n",
       "      <th>Item_Outlet_Sales</th>\n",
       "      <th>Item_Type_combined</th>\n",
       "      <th>yearsold</th>\n",
       "    </tr>\n",
       "  </thead>\n",
       "  <tbody>\n",
       "    <tr>\n",
       "      <th>0</th>\n",
       "      <td>FDA15</td>\n",
       "      <td>9.30</td>\n",
       "      <td>Low Fat</td>\n",
       "      <td>0.016047</td>\n",
       "      <td>249.8092</td>\n",
       "      <td>OUT049</td>\n",
       "      <td>Small</td>\n",
       "      <td>Tier 1</td>\n",
       "      <td>Supermarket Type1</td>\n",
       "      <td>3735.1380</td>\n",
       "      <td>Food</td>\n",
       "      <td>14</td>\n",
       "    </tr>\n",
       "    <tr>\n",
       "      <th>1</th>\n",
       "      <td>DRC01</td>\n",
       "      <td>5.92</td>\n",
       "      <td>Regular</td>\n",
       "      <td>0.019278</td>\n",
       "      <td>48.2692</td>\n",
       "      <td>OUT018</td>\n",
       "      <td>Medium</td>\n",
       "      <td>Tier 3</td>\n",
       "      <td>Supermarket Type2</td>\n",
       "      <td>443.4228</td>\n",
       "      <td>Drinks</td>\n",
       "      <td>4</td>\n",
       "    </tr>\n",
       "    <tr>\n",
       "      <th>2</th>\n",
       "      <td>FDN15</td>\n",
       "      <td>17.50</td>\n",
       "      <td>Low Fat</td>\n",
       "      <td>0.016760</td>\n",
       "      <td>141.6180</td>\n",
       "      <td>OUT049</td>\n",
       "      <td>Small</td>\n",
       "      <td>Tier 1</td>\n",
       "      <td>Supermarket Type1</td>\n",
       "      <td>2097.2700</td>\n",
       "      <td>Food</td>\n",
       "      <td>14</td>\n",
       "    </tr>\n",
       "    <tr>\n",
       "      <th>3</th>\n",
       "      <td>FDX07</td>\n",
       "      <td>19.20</td>\n",
       "      <td>Regular</td>\n",
       "      <td>0.040627</td>\n",
       "      <td>182.0950</td>\n",
       "      <td>OUT010</td>\n",
       "      <td>Small</td>\n",
       "      <td>Tier 3</td>\n",
       "      <td>Grocery Store</td>\n",
       "      <td>732.3800</td>\n",
       "      <td>Food</td>\n",
       "      <td>15</td>\n",
       "    </tr>\n",
       "    <tr>\n",
       "      <th>4</th>\n",
       "      <td>NCD19</td>\n",
       "      <td>8.93</td>\n",
       "      <td>Non_edible</td>\n",
       "      <td>0.093093</td>\n",
       "      <td>53.8614</td>\n",
       "      <td>OUT013</td>\n",
       "      <td>Small</td>\n",
       "      <td>Tier 3</td>\n",
       "      <td>Supermarket Type1</td>\n",
       "      <td>994.7052</td>\n",
       "      <td>Non_consumable</td>\n",
       "      <td>26</td>\n",
       "    </tr>\n",
       "  </tbody>\n",
       "</table>\n",
       "</div>"
      ],
      "text/plain": [
       "  Item_Identifier  Item_Weight Item_Fat_Content  Item_Visibility  Item_MRP  \\\n",
       "0           FDA15         9.30          Low Fat         0.016047  249.8092   \n",
       "1           DRC01         5.92          Regular         0.019278   48.2692   \n",
       "2           FDN15        17.50          Low Fat         0.016760  141.6180   \n",
       "3           FDX07        19.20          Regular         0.040627  182.0950   \n",
       "4           NCD19         8.93       Non_edible         0.093093   53.8614   \n",
       "\n",
       "  Outlet_Identifier Outlet_Size Outlet_Location_Type        Outlet_Type  \\\n",
       "0            OUT049       Small               Tier 1  Supermarket Type1   \n",
       "1            OUT018      Medium               Tier 3  Supermarket Type2   \n",
       "2            OUT049       Small               Tier 1  Supermarket Type1   \n",
       "3            OUT010       Small               Tier 3      Grocery Store   \n",
       "4            OUT013       Small               Tier 3  Supermarket Type1   \n",
       "\n",
       "   Item_Outlet_Sales Item_Type_combined  yearsold  \n",
       "0          3735.1380               Food        14  \n",
       "1           443.4228             Drinks         4  \n",
       "2          2097.2700               Food        14  \n",
       "3           732.3800               Food        15  \n",
       "4           994.7052     Non_consumable        26  "
      ]
     },
     "execution_count": 107,
     "metadata": {},
     "output_type": "execute_result"
    }
   ],
   "source": [
    "# Converting all the zero values to mean in the visibility column\n",
    "Item_Visibility_mean=df.pivot_table(index='Item_Identifier',values='Item_Visibility',aggfunc=[np.mean])\n",
    "print(Item_Visibility_mean)\n",
    "bool4=df['Item_Visibility']==0\n",
    "df['Item_Visibility'][bool4]=df['Item_Identifier'][bool4].apply(lambda x:Item_Visibility_mean.loc[x] ).values\n",
    "df.head()"
   ]
  },
  {
   "cell_type": "code",
   "execution_count": 108,
   "id": "d195d2fd",
   "metadata": {},
   "outputs": [
    {
     "data": {
      "text/html": [
       "<div>\n",
       "<style scoped>\n",
       "    .dataframe tbody tr th:only-of-type {\n",
       "        vertical-align: middle;\n",
       "    }\n",
       "\n",
       "    .dataframe tbody tr th {\n",
       "        vertical-align: top;\n",
       "    }\n",
       "\n",
       "    .dataframe thead th {\n",
       "        text-align: right;\n",
       "    }\n",
       "</style>\n",
       "<table border=\"1\" class=\"dataframe\">\n",
       "  <thead>\n",
       "    <tr style=\"text-align: right;\">\n",
       "      <th></th>\n",
       "      <th>Item_Weight</th>\n",
       "      <th>Item_Visibility</th>\n",
       "      <th>Item_MRP</th>\n",
       "      <th>Item_Outlet_Sales</th>\n",
       "      <th>yearsold</th>\n",
       "    </tr>\n",
       "  </thead>\n",
       "  <tbody>\n",
       "    <tr>\n",
       "      <th>Item_Weight</th>\n",
       "      <td>1.000000</td>\n",
       "      <td>-0.018976</td>\n",
       "      <td>0.035751</td>\n",
       "      <td>0.013261</td>\n",
       "      <td>-0.000247</td>\n",
       "    </tr>\n",
       "    <tr>\n",
       "      <th>Item_Visibility</th>\n",
       "      <td>-0.018976</td>\n",
       "      <td>1.000000</td>\n",
       "      <td>-0.009766</td>\n",
       "      <td>-0.129396</td>\n",
       "      <td>0.083223</td>\n",
       "    </tr>\n",
       "    <tr>\n",
       "      <th>Item_MRP</th>\n",
       "      <td>0.035751</td>\n",
       "      <td>-0.009766</td>\n",
       "      <td>1.000000</td>\n",
       "      <td>0.567574</td>\n",
       "      <td>-0.000141</td>\n",
       "    </tr>\n",
       "    <tr>\n",
       "      <th>Item_Outlet_Sales</th>\n",
       "      <td>0.013261</td>\n",
       "      <td>-0.129396</td>\n",
       "      <td>0.567574</td>\n",
       "      <td>1.000000</td>\n",
       "      <td>0.049135</td>\n",
       "    </tr>\n",
       "    <tr>\n",
       "      <th>yearsold</th>\n",
       "      <td>-0.000247</td>\n",
       "      <td>0.083223</td>\n",
       "      <td>-0.000141</td>\n",
       "      <td>0.049135</td>\n",
       "      <td>1.000000</td>\n",
       "    </tr>\n",
       "  </tbody>\n",
       "</table>\n",
       "</div>"
      ],
      "text/plain": [
       "                   Item_Weight  Item_Visibility  Item_MRP  Item_Outlet_Sales  \\\n",
       "Item_Weight           1.000000        -0.018976  0.035751           0.013261   \n",
       "Item_Visibility      -0.018976         1.000000 -0.009766          -0.129396   \n",
       "Item_MRP              0.035751        -0.009766  1.000000           0.567574   \n",
       "Item_Outlet_Sales     0.013261        -0.129396  0.567574           1.000000   \n",
       "yearsold             -0.000247         0.083223 -0.000141           0.049135   \n",
       "\n",
       "                   yearsold  \n",
       "Item_Weight       -0.000247  \n",
       "Item_Visibility    0.083223  \n",
       "Item_MRP          -0.000141  \n",
       "Item_Outlet_Sales  0.049135  \n",
       "yearsold           1.000000  "
      ]
     },
     "execution_count": 108,
     "metadata": {},
     "output_type": "execute_result"
    }
   ],
   "source": [
    "#Checks for correlation between different numerical columns\n",
    "df.corr()"
   ]
  },
  {
   "cell_type": "code",
   "execution_count": 109,
   "id": "1b269aa1",
   "metadata": {},
   "outputs": [],
   "source": [
    "# Identifying outliers and fixing them"
   ]
  },
  {
   "cell_type": "code",
   "execution_count": 110,
   "id": "8f18cab1",
   "metadata": {},
   "outputs": [
    {
     "data": {
      "text/plain": [
       "<AxesSubplot:>"
      ]
     },
     "execution_count": 110,
     "metadata": {},
     "output_type": "execute_result"
    },
    {
     "data": {
      "image/png": "[encoded data removed]",
      "text/plain": [
       "<Figure size 432x288 with 1 Axes>"
      ]
     },
     "metadata": {
      "needs_background": "light"
     },
     "output_type": "display_data"
    }
   ],
   "source": [
    "\n",
    "sns.boxplot(data=df,palette='BuGn')\n",
    "plt.show()"
   ]
  },
  {
   "cell_type": "code",
   "execution_count": 111,
   "id": "e07505b9",
   "metadata": {},
   "outputs": [
    {
     "data": {
      "image/png": "[encoded data removed]",
      "text/plain": [
       "<Figure size 432x288 with 1 Axes>"
      ]
     },
     "metadata": {},
     "output_type": "display_data"
    }
   ],
   "source": [
    "sns.set(style=\"whitegrid\")\n",
    "ax = sns.boxplot(x=df[\"Item_Outlet_Sales\"])"
   ]
  },
  {
   "cell_type": "code",
   "execution_count": 112,
   "id": "ef178381",
   "metadata": {},
   "outputs": [],
   "source": [
    "#As we know only Item_Outlet_Sales have outliers we can fix them but fixing them will increase our RMSE score \n",
    "#to a large extent"
   ]
  },
  {
   "cell_type": "markdown",
   "id": "59b27ecc",
   "metadata": {},
   "source": [
    "### Plotting Graphs for more Analysis"
   ]
  },
  {
   "cell_type": "code",
   "execution_count": 113,
   "id": "34587334",
   "metadata": {},
   "outputs": [
    {
     "data": {
      "text/plain": [
       "<matplotlib.collections.PathCollection at 0x28705117df0>"
      ]
     },
     "execution_count": 113,
     "metadata": {},
     "output_type": "execute_result"
    },
    {
     "data": {
      "image/png": "[encoded data removed]",
      "text/plain": [
       "<Figure size 432x288 with 1 Axes>"
      ]
     },
     "metadata": {},
     "output_type": "display_data"
    }
   ],
   "source": [
    "plt.scatter(df.Item_MRP,df.Item_Outlet_Sales,c='g')\n",
    "plt.show()"
   ]
  },
  {
   "cell_type": "code",
   "execution_count": 114,
   "id": "0b592f4e",
   "metadata": {},
   "outputs": [
    {
     "data": {
      "image/png": "[encoded data removed]",
      "text/plain": [
       "<Figure size 1088.8x216 with 3 Axes>"
      ]
     },
     "metadata": {},
     "output_type": "display_data"
    }
   ],
   "source": [
    "sns.FacetGrid(df, col='Item_Type_combined', size=3, col_wrap=5) \\\n",
    "    .map(plt.hist, 'Item_Outlet_Sales') \\\n",
    "    .add_legend();\n"
   ]
  },
  {
   "cell_type": "code",
   "execution_count": 115,
   "id": "a5ab1292",
   "metadata": {},
   "outputs": [],
   "source": [
    "# Maximum contribution to outlet sales is from Items that are food type and least is from drinks"
   ]
  },
  {
   "cell_type": "code",
   "execution_count": 116,
   "id": "ad69c47c",
   "metadata": {},
   "outputs": [
    {
     "data": {
      "image/png": "[encoded data removed]",
      "text/plain": [
       "<Figure size 1088.8x216 with 3 Axes>"
      ]
     },
     "metadata": {},
     "output_type": "display_data"
    }
   ],
   "source": [
    "sns.FacetGrid(df, col='Outlet_Location_Type', size=3, col_wrap=5) \\\n",
    "    .map(plt.hist, 'Item_Outlet_Sales') \\\n",
    "    .add_legend();"
   ]
  },
  {
   "cell_type": "code",
   "execution_count": 117,
   "id": "4a54cbb6",
   "metadata": {},
   "outputs": [],
   "source": [
    "#Tier3 type of outlet location provides for the maximum sales and other two provides the \n",
    "# least sales"
   ]
  },
  {
   "cell_type": "code",
   "execution_count": 118,
   "id": "476453ca",
   "metadata": {},
   "outputs": [
    {
     "data": {
      "image/png": "[encoded data removed]",
      "text/plain": [
       "<Figure size 1088.8x216 with 2 Axes>"
      ]
     },
     "metadata": {},
     "output_type": "display_data"
    }
   ],
   "source": [
    "sns.FacetGrid(df, col='Outlet_Size', size=3, col_wrap=5) \\\n",
    "    .map(plt.hist, 'Item_Outlet_Sales') \\\n",
    "    .add_legend();\n",
    "#Small sized Outlets are providing the maximum sales whereas medium sized outlets \n",
    "# are contributing the least"
   ]
  },
  {
   "cell_type": "code",
   "execution_count": 119,
   "id": "3f045ea8",
   "metadata": {},
   "outputs": [
    {
     "data": {
      "image/png": "[encoded data removed]",
      "text/plain": [
       "<Figure size 1088.8x216 with 3 Axes>"
      ]
     },
     "metadata": {},
     "output_type": "display_data"
    }
   ],
   "source": [
    "sns.FacetGrid(df, col='Item_Fat_Content', size=3, col_wrap=5) \\\n",
    "    .map(plt.hist, 'Item_Outlet_Sales') \\\n",
    "    .add_legend();\n",
    "# people are prefering items with lowest fat content the most "
   ]
  },
  {
   "cell_type": "code",
   "execution_count": 120,
   "id": "28075bf7",
   "metadata": {},
   "outputs": [
    {
     "data": {
      "image/png": "[encoded data removed]",
      "text/plain": [
       "<Figure size 440.8x432 with 4 Axes>"
      ]
     },
     "metadata": {},
     "output_type": "display_data"
    }
   ],
   "source": [
    "sns.FacetGrid(df, col='Outlet_Type', size=3, col_wrap=2) \\\n",
    "    .map(plt.hist, 'Item_Outlet_Sales') \\\n",
    "    .add_legend();\n",
    "#Maximum of the high sales margin is from Supermarket Type1\n",
    "#Grocery store has the least sales"
   ]
  },
  {
   "cell_type": "code",
   "execution_count": 128,
   "id": "7675bcf3",
   "metadata": {},
   "outputs": [
    {
     "data": {
      "text/plain": [
       "Item_Weight          0.100417\n",
       "Item_Visibility      1.256408\n",
       "Item_MRP             0.130728\n",
       "Item_Outlet_Sales    1.177531\n",
       "yearsold             0.396465\n",
       "dtype: float64"
      ]
     },
     "execution_count": 128,
     "metadata": {},
     "output_type": "execute_result"
    }
   ],
   "source": [
    "df.skew()"
   ]
  },
  {
   "cell_type": "code",
   "execution_count": 135,
   "id": "ed078074",
   "metadata": {},
   "outputs": [],
   "source": [
    "#remove skewness using boxcox\n",
    "from scipy.stats import boxcox\n",
    "\n",
    "df['Item_Visibility']=boxcox(df['Item_Visibility'],0)\n",
    "df['Item_Outlet_Sales']=boxcox(df['Item_Outlet_Sales'],0)"
   ]
  },
  {
   "cell_type": "code",
   "execution_count": 136,
   "id": "11d59cc4",
   "metadata": {},
   "outputs": [
    {
     "data": {
      "text/plain": [
       "LabelEncoder()"
      ]
     },
     "execution_count": 136,
     "metadata": {},
     "output_type": "execute_result"
    },
    {
     "data": {
      "text/plain": [
       "LabelEncoder()"
      ]
     },
     "execution_count": 136,
     "metadata": {},
     "output_type": "execute_result"
    },
    {
     "data": {
      "text/plain": [
       "LabelEncoder()"
      ]
     },
     "execution_count": 136,
     "metadata": {},
     "output_type": "execute_result"
    },
    {
     "data": {
      "text/plain": [
       "LabelEncoder()"
      ]
     },
     "execution_count": 136,
     "metadata": {},
     "output_type": "execute_result"
    },
    {
     "data": {
      "text/plain": [
       "LabelEncoder()"
      ]
     },
     "execution_count": 136,
     "metadata": {},
     "output_type": "execute_result"
    },
    {
     "data": {
      "text/plain": [
       "LabelEncoder()"
      ]
     },
     "execution_count": 136,
     "metadata": {},
     "output_type": "execute_result"
    },
    {
     "data": {
      "text/html": [
       "<div>\n",
       "<style scoped>\n",
       "    .dataframe tbody tr th:only-of-type {\n",
       "        vertical-align: middle;\n",
       "    }\n",
       "\n",
       "    .dataframe tbody tr th {\n",
       "        vertical-align: top;\n",
       "    }\n",
       "\n",
       "    .dataframe thead th {\n",
       "        text-align: right;\n",
       "    }\n",
       "</style>\n",
       "<table border=\"1\" class=\"dataframe\">\n",
       "  <thead>\n",
       "    <tr style=\"text-align: right;\">\n",
       "      <th></th>\n",
       "      <th>Item_Weight</th>\n",
       "      <th>Item_Fat_Content</th>\n",
       "      <th>Item_Visibility</th>\n",
       "      <th>Item_MRP</th>\n",
       "      <th>Outlet_Size</th>\n",
       "      <th>Outlet_Location_Type</th>\n",
       "      <th>Outlet_Type</th>\n",
       "      <th>Item_Outlet_Sales</th>\n",
       "      <th>Item_Type_combined</th>\n",
       "      <th>yearsold</th>\n",
       "      <th>Outlet_Identifier_OUT010</th>\n",
       "      <th>Outlet_Identifier_OUT013</th>\n",
       "      <th>Outlet_Identifier_OUT017</th>\n",
       "      <th>Outlet_Identifier_OUT018</th>\n",
       "      <th>Outlet_Identifier_OUT019</th>\n",
       "      <th>Outlet_Identifier_OUT027</th>\n",
       "      <th>Outlet_Identifier_OUT035</th>\n",
       "      <th>Outlet_Identifier_OUT045</th>\n",
       "      <th>Outlet_Identifier_OUT046</th>\n",
       "      <th>Outlet_Identifier_OUT049</th>\n",
       "    </tr>\n",
       "  </thead>\n",
       "  <tbody>\n",
       "    <tr>\n",
       "      <th>0</th>\n",
       "      <td>9.30</td>\n",
       "      <td>0</td>\n",
       "      <td>-4.132215</td>\n",
       "      <td>249.8092</td>\n",
       "      <td>1</td>\n",
       "      <td>0</td>\n",
       "      <td>1</td>\n",
       "      <td>8.225540</td>\n",
       "      <td>1</td>\n",
       "      <td>14</td>\n",
       "      <td>0</td>\n",
       "      <td>0</td>\n",
       "      <td>0</td>\n",
       "      <td>0</td>\n",
       "      <td>0</td>\n",
       "      <td>0</td>\n",
       "      <td>0</td>\n",
       "      <td>0</td>\n",
       "      <td>0</td>\n",
       "      <td>1</td>\n",
       "    </tr>\n",
       "    <tr>\n",
       "      <th>1</th>\n",
       "      <td>5.92</td>\n",
       "      <td>2</td>\n",
       "      <td>-3.948780</td>\n",
       "      <td>48.2692</td>\n",
       "      <td>0</td>\n",
       "      <td>2</td>\n",
       "      <td>2</td>\n",
       "      <td>6.094524</td>\n",
       "      <td>0</td>\n",
       "      <td>4</td>\n",
       "      <td>0</td>\n",
       "      <td>0</td>\n",
       "      <td>0</td>\n",
       "      <td>1</td>\n",
       "      <td>0</td>\n",
       "      <td>0</td>\n",
       "      <td>0</td>\n",
       "      <td>0</td>\n",
       "      <td>0</td>\n",
       "      <td>0</td>\n",
       "    </tr>\n",
       "    <tr>\n",
       "      <th>2</th>\n",
       "      <td>17.50</td>\n",
       "      <td>0</td>\n",
       "      <td>-4.088756</td>\n",
       "      <td>141.6180</td>\n",
       "      <td>1</td>\n",
       "      <td>0</td>\n",
       "      <td>1</td>\n",
       "      <td>7.648392</td>\n",
       "      <td>1</td>\n",
       "      <td>14</td>\n",
       "      <td>0</td>\n",
       "      <td>0</td>\n",
       "      <td>0</td>\n",
       "      <td>0</td>\n",
       "      <td>0</td>\n",
       "      <td>0</td>\n",
       "      <td>0</td>\n",
       "      <td>0</td>\n",
       "      <td>0</td>\n",
       "      <td>1</td>\n",
       "    </tr>\n",
       "    <tr>\n",
       "      <th>3</th>\n",
       "      <td>19.20</td>\n",
       "      <td>2</td>\n",
       "      <td>-3.203334</td>\n",
       "      <td>182.0950</td>\n",
       "      <td>1</td>\n",
       "      <td>2</td>\n",
       "      <td>0</td>\n",
       "      <td>6.596300</td>\n",
       "      <td>1</td>\n",
       "      <td>15</td>\n",
       "      <td>1</td>\n",
       "      <td>0</td>\n",
       "      <td>0</td>\n",
       "      <td>0</td>\n",
       "      <td>0</td>\n",
       "      <td>0</td>\n",
       "      <td>0</td>\n",
       "      <td>0</td>\n",
       "      <td>0</td>\n",
       "      <td>0</td>\n",
       "    </tr>\n",
       "    <tr>\n",
       "      <th>4</th>\n",
       "      <td>8.93</td>\n",
       "      <td>1</td>\n",
       "      <td>-2.374151</td>\n",
       "      <td>53.8614</td>\n",
       "      <td>1</td>\n",
       "      <td>2</td>\n",
       "      <td>1</td>\n",
       "      <td>6.902446</td>\n",
       "      <td>2</td>\n",
       "      <td>26</td>\n",
       "      <td>0</td>\n",
       "      <td>1</td>\n",
       "      <td>0</td>\n",
       "      <td>0</td>\n",
       "      <td>0</td>\n",
       "      <td>0</td>\n",
       "      <td>0</td>\n",
       "      <td>0</td>\n",
       "      <td>0</td>\n",
       "      <td>0</td>\n",
       "    </tr>\n",
       "  </tbody>\n",
       "</table>\n",
       "</div>"
      ],
      "text/plain": [
       "   Item_Weight  Item_Fat_Content  Item_Visibility  Item_MRP  Outlet_Size  \\\n",
       "0         9.30                 0        -4.132215  249.8092            1   \n",
       "1         5.92                 2        -3.948780   48.2692            0   \n",
       "2        17.50                 0        -4.088756  141.6180            1   \n",
       "3        19.20                 2        -3.203334  182.0950            1   \n",
       "4         8.93                 1        -2.374151   53.8614            1   \n",
       "\n",
       "   Outlet_Location_Type  Outlet_Type  Item_Outlet_Sales  Item_Type_combined  \\\n",
       "0                     0            1           8.225540                   1   \n",
       "1                     2            2           6.094524                   0   \n",
       "2                     0            1           7.648392                   1   \n",
       "3                     2            0           6.596300                   1   \n",
       "4                     2            1           6.902446                   2   \n",
       "\n",
       "   yearsold  Outlet_Identifier_OUT010  Outlet_Identifier_OUT013  \\\n",
       "0        14                         0                         0   \n",
       "1         4                         0                         0   \n",
       "2        14                         0                         0   \n",
       "3        15                         1                         0   \n",
       "4        26                         0                         1   \n",
       "\n",
       "   Outlet_Identifier_OUT017  Outlet_Identifier_OUT018  \\\n",
       "0                         0                         0   \n",
       "1                         0                         1   \n",
       "2                         0                         0   \n",
       "3                         0                         0   \n",
       "4                         0                         0   \n",
       "\n",
       "   Outlet_Identifier_OUT019  Outlet_Identifier_OUT027  \\\n",
       "0                         0                         0   \n",
       "1                         0                         0   \n",
       "2                         0                         0   \n",
       "3                         0                         0   \n",
       "4                         0                         0   \n",
       "\n",
       "   Outlet_Identifier_OUT035  Outlet_Identifier_OUT045  \\\n",
       "0                         0                         0   \n",
       "1                         0                         0   \n",
       "2                         0                         0   \n",
       "3                         0                         0   \n",
       "4                         0                         0   \n",
       "\n",
       "   Outlet_Identifier_OUT046  Outlet_Identifier_OUT049  \n",
       "0                         0                         1  \n",
       "1                         0                         0  \n",
       "2                         0                         1  \n",
       "3                         0                         0  \n",
       "4                         0                         0  "
      ]
     },
     "execution_count": 136,
     "metadata": {},
     "output_type": "execute_result"
    }
   ],
   "source": [
    "#Label Encoding all the columns with text entries and dropping Item_identifier  \n",
    "le=LabelEncoder()\n",
    "list=['Item_Fat_Content','Outlet_Location_Type','Outlet_Size','Outlet_Type','Item_Type_combined',\n",
    "      'Outlet_Size']\n",
    "for i in list:\n",
    "    le.fit(df[i])\n",
    "    df[i]=le.transform(df[i])\n",
    "df_new=df.drop(columns='Item_Identifier')\n",
    "df_new= pd.get_dummies(df_new,columns=['Outlet_Identifier'])\n",
    "df_new.head()"
   ]
  },
  {
   "cell_type": "code",
   "execution_count": null,
   "id": "2c1268f6",
   "metadata": {},
   "outputs": [],
   "source": []
  },
  {
   "cell_type": "code",
   "execution_count": 137,
   "id": "22da891c",
   "metadata": {},
   "outputs": [
    {
     "data": {
      "text/plain": [
       "(14204, 20)"
      ]
     },
     "execution_count": 137,
     "metadata": {},
     "output_type": "execute_result"
    }
   ],
   "source": [
    "df_new.shape"
   ]
  },
  {
   "cell_type": "code",
   "execution_count": 138,
   "id": "ec3c2a61",
   "metadata": {},
   "outputs": [],
   "source": [
    "#Separating test and train set\n",
    "df_new_train=df_new.iloc[:8523,:]\n",
    "df_new_test=df_new.iloc[8523:,:]\n",
    "df_new_test=df_new_test.drop(columns=['Item_Outlet_Sales'])"
   ]
  },
  {
   "cell_type": "code",
   "execution_count": 139,
   "id": "8a405a4f",
   "metadata": {},
   "outputs": [],
   "source": [
    "Y_train=df_new_train['Item_Outlet_Sales']\n",
    "df_train_test=df_new_train.drop(columns=['Item_Outlet_Sales'])\n"
   ]
  },
  {
   "cell_type": "code",
   "execution_count": 140,
   "id": "c88bbc44",
   "metadata": {},
   "outputs": [
    {
     "name": "stdout",
     "output_type": "stream",
     "text": [
      "Requirement already satisfied: xgboost in c:\\users\\hp\\anaconda3\\lib\\site-packages (1.5.1)\n",
      "Requirement already satisfied: numpy in c:\\users\\hp\\anaconda3\\lib\\site-packages (from xgboost) (1.20.1)\n",
      "Requirement already satisfied: scipy in c:\\users\\hp\\anaconda3\\lib\\site-packages (from xgboost) (1.6.2)\n"
     ]
    }
   ],
   "source": [
    "!pip install xgboost"
   ]
  },
  {
   "cell_type": "code",
   "execution_count": 160,
   "id": "56f6af13",
   "metadata": {},
   "outputs": [],
   "source": [
    "from sklearn.linear_model import LinearRegression\n",
    "from sklearn.linear_model import Ridge\n",
    "from sklearn.ensemble import RandomForestRegressor \n",
    "from sklearn.ensemble import ExtraTreesRegressor\n",
    "from sklearn.ensemble import BaggingRegressor\n",
    "from sklearn.ensemble import GradientBoostingRegressor\n",
    "from sklearn.linear_model import ElasticNet \n",
    "from sklearn.neural_network import MLPRegressor\n",
    "from sklearn.model_selection import KFold, cross_val_score\n",
    "from xgboost import XGBRegressor\n",
    "import xgboost as xgb\n"
   ]
  },
  {
   "cell_type": "code",
   "execution_count": 142,
   "id": "a9bfa12c",
   "metadata": {},
   "outputs": [],
   "source": [
    "models = [('lr',LinearRegression()),('ridge',Ridge()),('rfr',RandomForestRegressor()),('etr',ExtraTreesRegressor()),\n",
    "         ('br',BaggingRegressor()),('gbr',GradientBoostingRegressor()),('en',ElasticNet()),('mlp',MLPRegressor())]"
   ]
  },
  {
   "cell_type": "code",
   "execution_count": 143,
   "id": "d3bc684c",
   "metadata": {},
   "outputs": [],
   "source": [
    "#Making function for making best 2 models for further hyperparameter tuning\n",
    "def basic_model_selection(x,y,cross_folds,model):\n",
    "    scores=[]\n",
    "    names = []\n",
    "    for i,j in model:\n",
    "        cv_scores = cross_val_score(j, x, y, cv=cross_folds,n_jobs=5)\n",
    "        scores.append(cv_scores)\n",
    "        names.append(i)\n",
    "    for k in range(len(scores)):\n",
    "        print(names[k],scores[k].mean())"
   ]
  },
  {
   "cell_type": "code",
   "execution_count": 144,
   "id": "a820bb84",
   "metadata": {},
   "outputs": [
    {
     "name": "stdout",
     "output_type": "stream",
     "text": [
      "lr 0.718487501596281\n",
      "ridge 0.7184891588047886\n",
      "rfr 0.7041194181739017\n",
      "etr 0.6856257473188995\n",
      "br 0.682338093203828\n",
      "gbr 0.7362391135384948\n",
      "en 0.26117634178521487\n",
      "mlp 0.7278095241342035\n"
     ]
    }
   ],
   "source": [
    "basic_model_selection(df_train_test,Y_train,4,models)"
   ]
  },
  {
   "cell_type": "code",
   "execution_count": 145,
   "id": "5376e911",
   "metadata": {},
   "outputs": [
    {
     "name": "stdout",
     "output_type": "stream",
     "text": [
      "0.7031232441583763\n"
     ]
    }
   ],
   "source": [
    "#Average score for XGBoost matrix\n",
    "# define data_dmatrix\n",
    "data_dmatrix = xgb.DMatrix(data=df_train_test,label=Y_train)\n",
    "# import XGBRegressor\n",
    "xgb1 = XGBRegressor()\n",
    "cv_score = cross_val_score(xgb1, df_train_test, Y_train, cv=4,n_jobs=5)\n",
    "print(cv_score.mean())"
   ]
  },
  {
   "cell_type": "markdown",
   "id": "05317d70",
   "metadata": {},
   "source": [
    "## Hyper parameter Tuning"
   ]
  },
  {
   "cell_type": "code",
   "execution_count": 146,
   "id": "b5ecf9b2",
   "metadata": {},
   "outputs": [],
   "source": [
    "def model_parameter_tuning(x,y,model,parameters,cross_folds):\n",
    "    model_grid = GridSearchCV(model,\n",
    "                        parameters,\n",
    "                        cv = cross_folds,\n",
    "                        n_jobs = 5,\n",
    "                        verbose=True)\n",
    "    model_grid.fit(x,y)\n",
    "    y_predicted = model_grid.predict(x)\n",
    "    print(model_grid.score)\n",
    "    print(model_grid.best_params_)\n",
    "    print(\"The RMSE score is\",np.sqrt(np.mean((y-y_predicted)**2)))\n",
    "\n",
    "#defining function for hyper parameter tuning and using RMSE as my metric\n",
    "    "
   ]
  },
  {
   "cell_type": "code",
   "execution_count": 147,
   "id": "15196952",
   "metadata": {},
   "outputs": [],
   "source": [
    "parameters_ridge={'alpha':[200, 230, 250,265, 270, 275, 290, 300, 500],\n",
    "                 'solver':['auto', 'svd', 'cholesky', 'lsqr', 'sparse_cg', 'sag', 'saga', 'lbfgs'],\n",
    "                 'random_state':[42,30,0],\n",
    "                 } \n",
    "parameters_gbr={'loss':['ls','lad'],\n",
    "               'learning_rate':[0.3],\n",
    "               'n_estimators':[300],\n",
    "               'min_samples_split':[3,4],\n",
    "               'max_depth':[3,4],\n",
    "               'min_samples_leaf':[3,4,2],\n",
    "               'max_features':['auto','log2','sqrt']\n",
    "              }\n",
    "\n",
    "# Defining the useful parameters for parameter tuning\n",
    "# to get the optimum output"
   ]
  },
  {
   "cell_type": "code",
   "execution_count": 148,
   "id": "0ca8bcbb",
   "metadata": {},
   "outputs": [
    {
     "name": "stdout",
     "output_type": "stream",
     "text": [
      "Fitting 4 folds for each of 216 candidates, totalling 864 fits\n",
      "<bound method BaseSearchCV.score of GridSearchCV(cv=4, estimator=Ridge(), n_jobs=5,\n",
      "             param_grid={'alpha': [200, 230, 250, 265, 270, 275, 290, 300, 500],\n",
      "                         'random_state': [42, 30, 0],\n",
      "                         'solver': ['auto', 'svd', 'cholesky', 'lsqr',\n",
      "                                    'sparse_cg', 'sag', 'saga', 'lbfgs']},\n",
      "             verbose=True)>\n",
      "{'alpha': 200, 'random_state': 42, 'solver': 'auto'}\n",
      "The RMSE score is 0.5447191218947527\n"
     ]
    }
   ],
   "source": [
    "model_parameter_tuning(df_train_test,Y_train,Ridge(),parameters_ridge,4)"
   ]
  },
  {
   "cell_type": "code",
   "execution_count": 149,
   "id": "b49625d9",
   "metadata": {},
   "outputs": [
    {
     "name": "stdout",
     "output_type": "stream",
     "text": [
      "Fitting 4 folds for each of 72 candidates, totalling 288 fits\n",
      "<bound method BaseSearchCV.score of GridSearchCV(cv=4, estimator=GradientBoostingRegressor(), n_jobs=5,\n",
      "             param_grid={'learning_rate': [0.3], 'loss': ['ls', 'lad'],\n",
      "                         'max_depth': [3, 4],\n",
      "                         'max_features': ['auto', 'log2', 'sqrt'],\n",
      "                         'min_samples_leaf': [3, 4, 2],\n",
      "                         'min_samples_split': [3, 4], 'n_estimators': [300]},\n",
      "             verbose=True)>\n",
      "{'learning_rate': 0.3, 'loss': 'lad', 'max_depth': 3, 'max_features': 'auto', 'min_samples_leaf': 4, 'min_samples_split': 4, 'n_estimators': 300}\n",
      "The RMSE score is 0.5025541739946577\n"
     ]
    }
   ],
   "source": [
    "gbr=GradientBoostingRegressor()\n",
    "model_parameter_tuning(df_train_test,Y_train,gbr,parameters_gbr,4)"
   ]
  },
  {
   "cell_type": "markdown",
   "id": "43a59bae",
   "metadata": {},
   "source": [
    "## Standardization of the model before training\n"
   ]
  },
  {
   "cell_type": "code",
   "execution_count": 150,
   "id": "7659c18f",
   "metadata": {},
   "outputs": [
    {
     "data": {
      "text/html": [
       "<div>\n",
       "<style scoped>\n",
       "    .dataframe tbody tr th:only-of-type {\n",
       "        vertical-align: middle;\n",
       "    }\n",
       "\n",
       "    .dataframe tbody tr th {\n",
       "        vertical-align: top;\n",
       "    }\n",
       "\n",
       "    .dataframe thead th {\n",
       "        text-align: right;\n",
       "    }\n",
       "</style>\n",
       "<table border=\"1\" class=\"dataframe\">\n",
       "  <thead>\n",
       "    <tr style=\"text-align: right;\">\n",
       "      <th></th>\n",
       "      <th>Item_Weight</th>\n",
       "      <th>Item_Fat_Content</th>\n",
       "      <th>Item_Visibility</th>\n",
       "      <th>Item_MRP</th>\n",
       "      <th>Outlet_Size</th>\n",
       "      <th>Outlet_Location_Type</th>\n",
       "      <th>Outlet_Type</th>\n",
       "      <th>Item_Type_combined</th>\n",
       "      <th>yearsold</th>\n",
       "      <th>Outlet_Identifier_OUT010</th>\n",
       "      <th>Outlet_Identifier_OUT013</th>\n",
       "      <th>Outlet_Identifier_OUT017</th>\n",
       "      <th>Outlet_Identifier_OUT018</th>\n",
       "      <th>Outlet_Identifier_OUT019</th>\n",
       "      <th>Outlet_Identifier_OUT027</th>\n",
       "      <th>Outlet_Identifier_OUT035</th>\n",
       "      <th>Outlet_Identifier_OUT045</th>\n",
       "      <th>Outlet_Identifier_OUT046</th>\n",
       "      <th>Outlet_Identifier_OUT049</th>\n",
       "    </tr>\n",
       "  </thead>\n",
       "  <tbody>\n",
       "    <tr>\n",
       "      <th>0</th>\n",
       "      <td>-0.769246</td>\n",
       "      <td>-0.997813</td>\n",
       "      <td>-1.513077</td>\n",
       "      <td>1.747454</td>\n",
       "      <td>0.528895</td>\n",
       "      <td>-1.369334</td>\n",
       "      <td>-0.252658</td>\n",
       "      <td>-0.179795</td>\n",
       "      <td>-0.139541</td>\n",
       "      <td>-0.263920</td>\n",
       "      <td>-0.350395</td>\n",
       "      <td>-0.349128</td>\n",
       "      <td>-0.349551</td>\n",
       "      <td>-0.256985</td>\n",
       "      <td>-0.351028</td>\n",
       "      <td>-0.349973</td>\n",
       "      <td>-0.349762</td>\n",
       "      <td>-0.349973</td>\n",
       "      <td>2.857362</td>\n",
       "    </tr>\n",
       "    <tr>\n",
       "      <th>1</th>\n",
       "      <td>-1.496813</td>\n",
       "      <td>1.236942</td>\n",
       "      <td>-1.281232</td>\n",
       "      <td>-1.489023</td>\n",
       "      <td>-1.890735</td>\n",
       "      <td>1.091569</td>\n",
       "      <td>1.002972</td>\n",
       "      <td>-2.095286</td>\n",
       "      <td>-1.334103</td>\n",
       "      <td>-0.263920</td>\n",
       "      <td>-0.350395</td>\n",
       "      <td>-0.349128</td>\n",
       "      <td>2.860816</td>\n",
       "      <td>-0.256985</td>\n",
       "      <td>-0.351028</td>\n",
       "      <td>-0.349973</td>\n",
       "      <td>-0.349762</td>\n",
       "      <td>-0.349973</td>\n",
       "      <td>-0.349973</td>\n",
       "    </tr>\n",
       "    <tr>\n",
       "      <th>2</th>\n",
       "      <td>0.995858</td>\n",
       "      <td>-0.997813</td>\n",
       "      <td>-1.458149</td>\n",
       "      <td>0.010040</td>\n",
       "      <td>0.528895</td>\n",
       "      <td>-1.369334</td>\n",
       "      <td>-0.252658</td>\n",
       "      <td>-0.179795</td>\n",
       "      <td>-0.139541</td>\n",
       "      <td>-0.263920</td>\n",
       "      <td>-0.350395</td>\n",
       "      <td>-0.349128</td>\n",
       "      <td>-0.349551</td>\n",
       "      <td>-0.256985</td>\n",
       "      <td>-0.351028</td>\n",
       "      <td>-0.349973</td>\n",
       "      <td>-0.349762</td>\n",
       "      <td>-0.349973</td>\n",
       "      <td>2.857362</td>\n",
       "    </tr>\n",
       "    <tr>\n",
       "      <th>3</th>\n",
       "      <td>1.361794</td>\n",
       "      <td>1.236942</td>\n",
       "      <td>-0.339057</td>\n",
       "      <td>0.660050</td>\n",
       "      <td>0.528895</td>\n",
       "      <td>1.091569</td>\n",
       "      <td>-1.508289</td>\n",
       "      <td>-0.179795</td>\n",
       "      <td>-0.020085</td>\n",
       "      <td>3.789031</td>\n",
       "      <td>-0.350395</td>\n",
       "      <td>-0.349128</td>\n",
       "      <td>-0.349551</td>\n",
       "      <td>-0.256985</td>\n",
       "      <td>-0.351028</td>\n",
       "      <td>-0.349973</td>\n",
       "      <td>-0.349762</td>\n",
       "      <td>-0.349973</td>\n",
       "      <td>-0.349973</td>\n",
       "    </tr>\n",
       "    <tr>\n",
       "      <th>4</th>\n",
       "      <td>-0.848890</td>\n",
       "      <td>0.119565</td>\n",
       "      <td>0.708954</td>\n",
       "      <td>-1.399220</td>\n",
       "      <td>0.528895</td>\n",
       "      <td>1.091569</td>\n",
       "      <td>-0.252658</td>\n",
       "      <td>1.735696</td>\n",
       "      <td>1.293934</td>\n",
       "      <td>-0.263920</td>\n",
       "      <td>2.853918</td>\n",
       "      <td>-0.349128</td>\n",
       "      <td>-0.349551</td>\n",
       "      <td>-0.256985</td>\n",
       "      <td>-0.351028</td>\n",
       "      <td>-0.349973</td>\n",
       "      <td>-0.349762</td>\n",
       "      <td>-0.349973</td>\n",
       "      <td>-0.349973</td>\n",
       "    </tr>\n",
       "  </tbody>\n",
       "</table>\n",
       "</div>"
      ],
      "text/plain": [
       "   Item_Weight  Item_Fat_Content  Item_Visibility  Item_MRP  Outlet_Size  \\\n",
       "0    -0.769246         -0.997813        -1.513077  1.747454     0.528895   \n",
       "1    -1.496813          1.236942        -1.281232 -1.489023    -1.890735   \n",
       "2     0.995858         -0.997813        -1.458149  0.010040     0.528895   \n",
       "3     1.361794          1.236942        -0.339057  0.660050     0.528895   \n",
       "4    -0.848890          0.119565         0.708954 -1.399220     0.528895   \n",
       "\n",
       "   Outlet_Location_Type  Outlet_Type  Item_Type_combined  yearsold  \\\n",
       "0             -1.369334    -0.252658           -0.179795 -0.139541   \n",
       "1              1.091569     1.002972           -2.095286 -1.334103   \n",
       "2             -1.369334    -0.252658           -0.179795 -0.139541   \n",
       "3              1.091569    -1.508289           -0.179795 -0.020085   \n",
       "4              1.091569    -0.252658            1.735696  1.293934   \n",
       "\n",
       "   Outlet_Identifier_OUT010  Outlet_Identifier_OUT013  \\\n",
       "0                 -0.263920                 -0.350395   \n",
       "1                 -0.263920                 -0.350395   \n",
       "2                 -0.263920                 -0.350395   \n",
       "3                  3.789031                 -0.350395   \n",
       "4                 -0.263920                  2.853918   \n",
       "\n",
       "   Outlet_Identifier_OUT017  Outlet_Identifier_OUT018  \\\n",
       "0                 -0.349128                 -0.349551   \n",
       "1                 -0.349128                  2.860816   \n",
       "2                 -0.349128                 -0.349551   \n",
       "3                 -0.349128                 -0.349551   \n",
       "4                 -0.349128                 -0.349551   \n",
       "\n",
       "   Outlet_Identifier_OUT019  Outlet_Identifier_OUT027  \\\n",
       "0                 -0.256985                 -0.351028   \n",
       "1                 -0.256985                 -0.351028   \n",
       "2                 -0.256985                 -0.351028   \n",
       "3                 -0.256985                 -0.351028   \n",
       "4                 -0.256985                 -0.351028   \n",
       "\n",
       "   Outlet_Identifier_OUT035  Outlet_Identifier_OUT045  \\\n",
       "0                 -0.349973                 -0.349762   \n",
       "1                 -0.349973                 -0.349762   \n",
       "2                 -0.349973                 -0.349762   \n",
       "3                 -0.349973                 -0.349762   \n",
       "4                 -0.349973                 -0.349762   \n",
       "\n",
       "   Outlet_Identifier_OUT046  Outlet_Identifier_OUT049  \n",
       "0                 -0.349973                  2.857362  \n",
       "1                 -0.349973                 -0.349973  \n",
       "2                 -0.349973                  2.857362  \n",
       "3                 -0.349973                 -0.349973  \n",
       "4                 -0.349973                 -0.349973  "
      ]
     },
     "execution_count": 150,
     "metadata": {},
     "output_type": "execute_result"
    }
   ],
   "source": [
    "from sklearn.preprocessing import StandardScaler\n",
    "scaler = StandardScaler()\n",
    "standardized=scaler.fit_transform(df_train_test)\n",
    "column_names = df_train_test.columns\n",
    "df_standardized = pd.DataFrame(data=standardized,columns=column_names)\n",
    "df_standardized.head()"
   ]
  },
  {
   "cell_type": "code",
   "execution_count": 151,
   "id": "13846912",
   "metadata": {},
   "outputs": [
    {
     "name": "stdout",
     "output_type": "stream",
     "text": [
      "lr 0.7180357639735553\n",
      "ridge 0.7184878145882663\n",
      "rfr 0.7040518279665899\n",
      "etr 0.686225945375889\n",
      "br 0.6827048069890862\n",
      "gbr 0.7362292219345075\n",
      "en 0.01155690385742203\n",
      "mlp 0.7310423599367624\n"
     ]
    }
   ],
   "source": [
    "basic_model_selection(df_standardized,Y_train,4,models)"
   ]
  },
  {
   "cell_type": "code",
   "execution_count": 152,
   "id": "7ae85f84",
   "metadata": {},
   "outputs": [
    {
     "name": "stdout",
     "output_type": "stream",
     "text": [
      "0.7031144505640776\n"
     ]
    }
   ],
   "source": [
    "#Average score for XGBoost matrix\n",
    "# define data_dmatrix\n",
    "data_dmatrix = xgb.DMatrix(data=df_standardized,label=Y_train)\n",
    "# import XGBRegressor\n",
    "xgb1 = XGBRegressor()\n",
    "cv_score = cross_val_score(xgb1, df_standardized, Y_train, cv=4,n_jobs=5)\n",
    "print(cv_score.mean())"
   ]
  },
  {
   "cell_type": "code",
   "execution_count": 153,
   "id": "62d3eaed",
   "metadata": {},
   "outputs": [
    {
     "name": "stdout",
     "output_type": "stream",
     "text": [
      "Fitting 4 folds for each of 72 candidates, totalling 288 fits\n",
      "<bound method BaseSearchCV.score of GridSearchCV(cv=4, estimator=GradientBoostingRegressor(), n_jobs=5,\n",
      "             param_grid={'learning_rate': [0.3], 'loss': ['ls', 'lad'],\n",
      "                         'max_depth': [3, 4],\n",
      "                         'max_features': ['auto', 'log2', 'sqrt'],\n",
      "                         'min_samples_leaf': [3, 4, 2],\n",
      "                         'min_samples_split': [3, 4], 'n_estimators': [300]},\n",
      "             verbose=True)>\n",
      "{'learning_rate': 0.3, 'loss': 'lad', 'max_depth': 3, 'max_features': 'auto', 'min_samples_leaf': 2, 'min_samples_split': 3, 'n_estimators': 300}\n",
      "The RMSE score is 0.5071489139479137\n"
     ]
    }
   ],
   "source": [
    "model_parameter_tuning(df_standardized,Y_train,gbr,parameters_gbr,4)"
   ]
  },
  {
   "cell_type": "markdown",
   "id": "cb50bdc8",
   "metadata": {},
   "source": [
    "## Using Robust Scalar"
   ]
  },
  {
   "cell_type": "code",
   "execution_count": 154,
   "id": "390c06ac",
   "metadata": {},
   "outputs": [
    {
     "data": {
      "text/html": [
       "<div>\n",
       "<style scoped>\n",
       "    .dataframe tbody tr th:only-of-type {\n",
       "        vertical-align: middle;\n",
       "    }\n",
       "\n",
       "    .dataframe tbody tr th {\n",
       "        vertical-align: top;\n",
       "    }\n",
       "\n",
       "    .dataframe thead th {\n",
       "        text-align: right;\n",
       "    }\n",
       "</style>\n",
       "<table border=\"1\" class=\"dataframe\">\n",
       "  <thead>\n",
       "    <tr style=\"text-align: right;\">\n",
       "      <th></th>\n",
       "      <th>Item_Weight</th>\n",
       "      <th>Item_Fat_Content</th>\n",
       "      <th>Item_Visibility</th>\n",
       "      <th>Item_MRP</th>\n",
       "      <th>Outlet_Size</th>\n",
       "      <th>Outlet_Location_Type</th>\n",
       "      <th>Outlet_Type</th>\n",
       "      <th>Item_Type_combined</th>\n",
       "      <th>yearsold</th>\n",
       "      <th>Outlet_Identifier_OUT010</th>\n",
       "      <th>Outlet_Identifier_OUT013</th>\n",
       "      <th>Outlet_Identifier_OUT017</th>\n",
       "      <th>Outlet_Identifier_OUT018</th>\n",
       "      <th>Outlet_Identifier_OUT019</th>\n",
       "      <th>Outlet_Identifier_OUT027</th>\n",
       "      <th>Outlet_Identifier_OUT035</th>\n",
       "      <th>Outlet_Identifier_OUT045</th>\n",
       "      <th>Outlet_Identifier_OUT046</th>\n",
       "      <th>Outlet_Identifier_OUT049</th>\n",
       "    </tr>\n",
       "  </thead>\n",
       "  <tbody>\n",
       "    <tr>\n",
       "      <th>0</th>\n",
       "      <td>0.282525</td>\n",
       "      <td>0.0</td>\n",
       "      <td>0.332202</td>\n",
       "      <td>0.927507</td>\n",
       "      <td>1.0</td>\n",
       "      <td>0.0</td>\n",
       "      <td>0.333333</td>\n",
       "      <td>0.5</td>\n",
       "      <td>0.416667</td>\n",
       "      <td>0.0</td>\n",
       "      <td>0.0</td>\n",
       "      <td>0.0</td>\n",
       "      <td>0.0</td>\n",
       "      <td>0.0</td>\n",
       "      <td>0.0</td>\n",
       "      <td>0.0</td>\n",
       "      <td>0.0</td>\n",
       "      <td>0.0</td>\n",
       "      <td>1.0</td>\n",
       "    </tr>\n",
       "    <tr>\n",
       "      <th>1</th>\n",
       "      <td>0.081274</td>\n",
       "      <td>1.0</td>\n",
       "      <td>0.372782</td>\n",
       "      <td>0.072068</td>\n",
       "      <td>0.0</td>\n",
       "      <td>1.0</td>\n",
       "      <td>0.666667</td>\n",
       "      <td>0.0</td>\n",
       "      <td>0.000000</td>\n",
       "      <td>0.0</td>\n",
       "      <td>0.0</td>\n",
       "      <td>0.0</td>\n",
       "      <td>1.0</td>\n",
       "      <td>0.0</td>\n",
       "      <td>0.0</td>\n",
       "      <td>0.0</td>\n",
       "      <td>0.0</td>\n",
       "      <td>0.0</td>\n",
       "      <td>0.0</td>\n",
       "    </tr>\n",
       "    <tr>\n",
       "      <th>2</th>\n",
       "      <td>0.770765</td>\n",
       "      <td>0.0</td>\n",
       "      <td>0.341816</td>\n",
       "      <td>0.468288</td>\n",
       "      <td>1.0</td>\n",
       "      <td>0.0</td>\n",
       "      <td>0.333333</td>\n",
       "      <td>0.5</td>\n",
       "      <td>0.416667</td>\n",
       "      <td>0.0</td>\n",
       "      <td>0.0</td>\n",
       "      <td>0.0</td>\n",
       "      <td>0.0</td>\n",
       "      <td>0.0</td>\n",
       "      <td>0.0</td>\n",
       "      <td>0.0</td>\n",
       "      <td>0.0</td>\n",
       "      <td>0.0</td>\n",
       "      <td>1.0</td>\n",
       "    </tr>\n",
       "    <tr>\n",
       "      <th>3</th>\n",
       "      <td>0.871986</td>\n",
       "      <td>1.0</td>\n",
       "      <td>0.537692</td>\n",
       "      <td>0.640093</td>\n",
       "      <td>1.0</td>\n",
       "      <td>1.0</td>\n",
       "      <td>0.000000</td>\n",
       "      <td>0.5</td>\n",
       "      <td>0.458333</td>\n",
       "      <td>1.0</td>\n",
       "      <td>0.0</td>\n",
       "      <td>0.0</td>\n",
       "      <td>0.0</td>\n",
       "      <td>0.0</td>\n",
       "      <td>0.0</td>\n",
       "      <td>0.0</td>\n",
       "      <td>0.0</td>\n",
       "      <td>0.0</td>\n",
       "      <td>0.0</td>\n",
       "    </tr>\n",
       "    <tr>\n",
       "      <th>4</th>\n",
       "      <td>0.260494</td>\n",
       "      <td>0.5</td>\n",
       "      <td>0.721126</td>\n",
       "      <td>0.095805</td>\n",
       "      <td>1.0</td>\n",
       "      <td>1.0</td>\n",
       "      <td>0.333333</td>\n",
       "      <td>1.0</td>\n",
       "      <td>0.916667</td>\n",
       "      <td>0.0</td>\n",
       "      <td>1.0</td>\n",
       "      <td>0.0</td>\n",
       "      <td>0.0</td>\n",
       "      <td>0.0</td>\n",
       "      <td>0.0</td>\n",
       "      <td>0.0</td>\n",
       "      <td>0.0</td>\n",
       "      <td>0.0</td>\n",
       "      <td>0.0</td>\n",
       "    </tr>\n",
       "  </tbody>\n",
       "</table>\n",
       "</div>"
      ],
      "text/plain": [
       "   Item_Weight  Item_Fat_Content  Item_Visibility  Item_MRP  Outlet_Size  \\\n",
       "0     0.282525               0.0         0.332202  0.927507          1.0   \n",
       "1     0.081274               1.0         0.372782  0.072068          0.0   \n",
       "2     0.770765               0.0         0.341816  0.468288          1.0   \n",
       "3     0.871986               1.0         0.537692  0.640093          1.0   \n",
       "4     0.260494               0.5         0.721126  0.095805          1.0   \n",
       "\n",
       "   Outlet_Location_Type  Outlet_Type  Item_Type_combined  yearsold  \\\n",
       "0                   0.0     0.333333                 0.5  0.416667   \n",
       "1                   1.0     0.666667                 0.0  0.000000   \n",
       "2                   0.0     0.333333                 0.5  0.416667   \n",
       "3                   1.0     0.000000                 0.5  0.458333   \n",
       "4                   1.0     0.333333                 1.0  0.916667   \n",
       "\n",
       "   Outlet_Identifier_OUT010  Outlet_Identifier_OUT013  \\\n",
       "0                       0.0                       0.0   \n",
       "1                       0.0                       0.0   \n",
       "2                       0.0                       0.0   \n",
       "3                       1.0                       0.0   \n",
       "4                       0.0                       1.0   \n",
       "\n",
       "   Outlet_Identifier_OUT017  Outlet_Identifier_OUT018  \\\n",
       "0                       0.0                       0.0   \n",
       "1                       0.0                       1.0   \n",
       "2                       0.0                       0.0   \n",
       "3                       0.0                       0.0   \n",
       "4                       0.0                       0.0   \n",
       "\n",
       "   Outlet_Identifier_OUT019  Outlet_Identifier_OUT027  \\\n",
       "0                       0.0                       0.0   \n",
       "1                       0.0                       0.0   \n",
       "2                       0.0                       0.0   \n",
       "3                       0.0                       0.0   \n",
       "4                       0.0                       0.0   \n",
       "\n",
       "   Outlet_Identifier_OUT035  Outlet_Identifier_OUT045  \\\n",
       "0                       0.0                       0.0   \n",
       "1                       0.0                       0.0   \n",
       "2                       0.0                       0.0   \n",
       "3                       0.0                       0.0   \n",
       "4                       0.0                       0.0   \n",
       "\n",
       "   Outlet_Identifier_OUT046  Outlet_Identifier_OUT049  \n",
       "0                       0.0                       1.0  \n",
       "1                       0.0                       0.0  \n",
       "2                       0.0                       1.0  \n",
       "3                       0.0                       0.0  \n",
       "4                       0.0                       0.0  "
      ]
     },
     "execution_count": 154,
     "metadata": {},
     "output_type": "execute_result"
    }
   ],
   "source": [
    "from sklearn.preprocessing import RobustScaler\n",
    "from sklearn.preprocessing import MinMaxScaler\n",
    "\n",
    "normalize = MinMaxScaler()\n",
    "robust = RobustScaler(quantile_range = (0.1,0.8)) #range of inerquartile is one of the parameters\n",
    "robust_stan = robust.fit_transform(df_train_test)\n",
    "robust_stan_normalize = normalize.fit_transform(robust_stan)\n",
    "# also normalized the dataset using MinMaxScaler i.e has bought the data set between (0,1)\n",
    "df_robust_normalize = pd.DataFrame(robust_stan_normalize,columns=column_names)\n",
    "df_robust_normalize.head()"
   ]
  },
  {
   "cell_type": "code",
   "execution_count": 155,
   "id": "ed5f5801",
   "metadata": {},
   "outputs": [
    {
     "name": "stdout",
     "output_type": "stream",
     "text": [
      "lr 0.7184930383177877\n",
      "ridge 0.7184895100079898\n",
      "rfr 0.7049027240948424\n",
      "etr 0.6844444656937023\n",
      "br 0.6813739577379446\n",
      "gbr 0.7362123988328628\n",
      "en -0.000521550853658459\n",
      "mlp 0.7366685533743185\n"
     ]
    }
   ],
   "source": [
    "basic_model_selection(df_robust_normalize,Y_train,4,models)"
   ]
  },
  {
   "cell_type": "code",
   "execution_count": 156,
   "id": "6a334943",
   "metadata": {},
   "outputs": [
    {
     "name": "stdout",
     "output_type": "stream",
     "text": [
      "0.7362780459831713\n"
     ]
    }
   ],
   "source": [
    "cv_score = cross_val_score(gbr, df_robust_normalize, Y_train, cv=4,n_jobs=5)\n",
    "print(cv_score.mean())"
   ]
  },
  {
   "cell_type": "code",
   "execution_count": 157,
   "id": "81ea6e10",
   "metadata": {},
   "outputs": [
    {
     "name": "stdout",
     "output_type": "stream",
     "text": [
      "Fitting 4 folds for each of 72 candidates, totalling 288 fits\n",
      "<bound method BaseSearchCV.score of GridSearchCV(cv=4, estimator=GradientBoostingRegressor(), n_jobs=5,\n",
      "             param_grid={'learning_rate': [0.3], 'loss': ['ls', 'lad'],\n",
      "                         'max_depth': [3, 4],\n",
      "                         'max_features': ['auto', 'log2', 'sqrt'],\n",
      "                         'min_samples_leaf': [3, 4, 2],\n",
      "                         'min_samples_split': [3, 4], 'n_estimators': [300]},\n",
      "             verbose=True)>\n",
      "{'learning_rate': 0.3, 'loss': 'lad', 'max_depth': 3, 'max_features': 'auto', 'min_samples_leaf': 2, 'min_samples_split': 3, 'n_estimators': 300}\n",
      "The RMSE score is 0.5078619537256909\n"
     ]
    }
   ],
   "source": [
    "model_parameter_tuning(df_robust_normalize,Y_train,gbr,parameters_gbr,4)"
   ]
  },
  {
   "cell_type": "markdown",
   "id": "8e40b9d0",
   "metadata": {},
   "source": [
    "# Gradient Boosting Method is the best method when implemented using Robust Scaler and MinMaxScaler normalization\n",
    " PARAMETERS AND RMSE RESPECTIVELY\n",
    " {'learning_rate': 0.3, 'loss': 'lad', 'max_depth': 3, 'max_features': 'auto', 'min_samples_leaf': 2, 'min_samples_split': 3, 'n_estimators': 300}\n",
    "The RMSE score is 1047.7447160757292"
   ]
  },
  {
   "cell_type": "code",
   "execution_count": 66,
   "id": "9904b896",
   "metadata": {},
   "outputs": [],
   "source": [
    "robust_test = robust.fit_transform(df_new_test)\n",
    "robust_normalize_test = normalize.fit_transform(robust_test)\n",
    "df_test_robust_normalize = pd.DataFrame(robust_normalize_test,columns=column_names)"
   ]
  },
  {
   "cell_type": "code",
   "execution_count": 67,
   "id": "2d324149",
   "metadata": {},
   "outputs": [],
   "source": [
    "gbr = GradientBoostingRegressor(learning_rate= 0.3, loss= 'lad',max_depth= 3,max_features='auto',min_samples_leaf=2,min_samples_split=3\n",
    "                                ,n_estimators= 300)\n",
    "# Defining my final model that I will use for prediction"
   ]
  },
  {
   "cell_type": "code",
   "execution_count": 68,
   "id": "c1f92ea6",
   "metadata": {},
   "outputs": [
    {
     "data": {
      "text/plain": [
       "GradientBoostingRegressor(learning_rate=0.3, loss='lad', max_features='auto',\n",
       "                          min_samples_leaf=2, min_samples_split=3,\n",
       "                          n_estimators=300)"
      ]
     },
     "execution_count": 68,
     "metadata": {},
     "output_type": "execute_result"
    }
   ],
   "source": [
    "gbr.fit(df_robust_normalize,Y_train)"
   ]
  },
  {
   "cell_type": "code",
   "execution_count": 69,
   "id": "66578c69",
   "metadata": {},
   "outputs": [],
   "source": [
    "final_prediction=gbr.predict(df_test_robust_normalize) #Predicting the outlet sales"
   ]
  },
  {
   "cell_type": "code",
   "execution_count": 70,
   "id": "4bd13e6a",
   "metadata": {},
   "outputs": [],
   "source": [
    "#the prediction is in the form of numpy array \n",
    "# Converting into Dataframe \n",
    "df_final_prediction = pd.DataFrame(final_prediction,columns=['Item_Outlet_Sales'])\n"
   ]
  },
  {
   "cell_type": "code",
   "execution_count": 71,
   "id": "a91adc2f",
   "metadata": {},
   "outputs": [
    {
     "data": {
      "text/html": [
       "<div>\n",
       "<style scoped>\n",
       "    .dataframe tbody tr th:only-of-type {\n",
       "        vertical-align: middle;\n",
       "    }\n",
       "\n",
       "    .dataframe tbody tr th {\n",
       "        vertical-align: top;\n",
       "    }\n",
       "\n",
       "    .dataframe thead th {\n",
       "        text-align: right;\n",
       "    }\n",
       "</style>\n",
       "<table border=\"1\" class=\"dataframe\">\n",
       "  <thead>\n",
       "    <tr style=\"text-align: right;\">\n",
       "      <th></th>\n",
       "      <th>Item_Outlet_Sales</th>\n",
       "    </tr>\n",
       "  </thead>\n",
       "  <tbody>\n",
       "    <tr>\n",
       "      <th>0</th>\n",
       "      <td>1627.359180</td>\n",
       "    </tr>\n",
       "    <tr>\n",
       "      <th>1</th>\n",
       "      <td>1279.874412</td>\n",
       "    </tr>\n",
       "    <tr>\n",
       "      <th>2</th>\n",
       "      <td>566.471475</td>\n",
       "    </tr>\n",
       "    <tr>\n",
       "      <th>3</th>\n",
       "      <td>2436.581014</td>\n",
       "    </tr>\n",
       "    <tr>\n",
       "      <th>4</th>\n",
       "      <td>5604.651548</td>\n",
       "    </tr>\n",
       "  </tbody>\n",
       "</table>\n",
       "</div>"
      ],
      "text/plain": [
       "   Item_Outlet_Sales\n",
       "0        1627.359180\n",
       "1        1279.874412\n",
       "2         566.471475\n",
       "3        2436.581014\n",
       "4        5604.651548"
      ]
     },
     "execution_count": 71,
     "metadata": {},
     "output_type": "execute_result"
    }
   ],
   "source": [
    "df_final_prediction.head()"
   ]
  },
  {
   "cell_type": "code",
   "execution_count": null,
   "id": "1ecaff7d",
   "metadata": {},
   "outputs": [],
   "source": []
  },
  {
   "cell_type": "code",
   "execution_count": 72,
   "id": "911447fd",
   "metadata": {},
   "outputs": [
    {
     "data": {
      "text/plain": [
       "['final_model.sav']"
      ]
     },
     "execution_count": 72,
     "metadata": {},
     "output_type": "execute_result"
    }
   ],
   "source": [
    "import joblib\n",
    "filename = 'final_model.sav' # Name of the model \n",
    "joblib.dump(gbr, filename) # it is saved in your current working directory"
   ]
  },
  {
   "cell_type": "code",
   "execution_count": 73,
   "id": "a10239b4",
   "metadata": {},
   "outputs": [],
   "source": [
    "# This command loads the model once again\n",
    "load_model = joblib.load(filename)"
   ]
  },
  {
   "cell_type": "code",
   "execution_count": 75,
   "id": "dfc9df75",
   "metadata": {},
   "outputs": [
    {
     "data": {
      "text/plain": [
       "(5681, 19)"
      ]
     },
     "execution_count": 75,
     "metadata": {},
     "output_type": "execute_result"
    }
   ],
   "source": [
    "df_test_robust_normalize.shape"
   ]
  },
  {
   "cell_type": "code",
   "execution_count": 84,
   "id": "eed05387",
   "metadata": {},
   "outputs": [],
   "source": [
    "conclusion=pd.DataFrame([load_model.predict(df_test_robust_normalize)[:]],index=[\"Predicted values\"])"
   ]
  },
  {
   "cell_type": "code",
   "execution_count": 85,
   "id": "90456ebc",
   "metadata": {},
   "outputs": [
    {
     "data": {
      "text/html": [
       "<div>\n",
       "<style scoped>\n",
       "    .dataframe tbody tr th:only-of-type {\n",
       "        vertical-align: middle;\n",
       "    }\n",
       "\n",
       "    .dataframe tbody tr th {\n",
       "        vertical-align: top;\n",
       "    }\n",
       "\n",
       "    .dataframe thead th {\n",
       "        text-align: right;\n",
       "    }\n",
       "</style>\n",
       "<table border=\"1\" class=\"dataframe\">\n",
       "  <thead>\n",
       "    <tr style=\"text-align: right;\">\n",
       "      <th></th>\n",
       "      <th>0</th>\n",
       "      <th>1</th>\n",
       "      <th>2</th>\n",
       "      <th>3</th>\n",
       "      <th>4</th>\n",
       "      <th>5</th>\n",
       "      <th>6</th>\n",
       "      <th>7</th>\n",
       "      <th>8</th>\n",
       "      <th>9</th>\n",
       "      <th>...</th>\n",
       "      <th>5671</th>\n",
       "      <th>5672</th>\n",
       "      <th>5673</th>\n",
       "      <th>5674</th>\n",
       "      <th>5675</th>\n",
       "      <th>5676</th>\n",
       "      <th>5677</th>\n",
       "      <th>5678</th>\n",
       "      <th>5679</th>\n",
       "      <th>5680</th>\n",
       "    </tr>\n",
       "  </thead>\n",
       "  <tbody>\n",
       "    <tr>\n",
       "      <th>Predicted values</th>\n",
       "      <td>1627.35918</td>\n",
       "      <td>1279.874412</td>\n",
       "      <td>566.471475</td>\n",
       "      <td>2436.581014</td>\n",
       "      <td>5604.651548</td>\n",
       "      <td>1908.527656</td>\n",
       "      <td>641.242271</td>\n",
       "      <td>2145.019593</td>\n",
       "      <td>1463.259332</td>\n",
       "      <td>2721.722873</td>\n",
       "      <td>...</td>\n",
       "      <td>844.515217</td>\n",
       "      <td>3935.106637</td>\n",
       "      <td>1714.058963</td>\n",
       "      <td>619.499968</td>\n",
       "      <td>1014.053572</td>\n",
       "      <td>2287.539564</td>\n",
       "      <td>2533.25305</td>\n",
       "      <td>1766.901875</td>\n",
       "      <td>3319.55748</td>\n",
       "      <td>1232.2276</td>\n",
       "    </tr>\n",
       "  </tbody>\n",
       "</table>\n",
       "<p>1 rows × 5681 columns</p>\n",
       "</div>"
      ],
      "text/plain": [
       "                        0            1           2            3     \\\n",
       "Predicted values  1627.35918  1279.874412  566.471475  2436.581014   \n",
       "\n",
       "                         4            5           6            7     \\\n",
       "Predicted values  5604.651548  1908.527656  641.242271  2145.019593   \n",
       "\n",
       "                         8            9     ...        5671         5672  \\\n",
       "Predicted values  1463.259332  2721.722873  ...  844.515217  3935.106637   \n",
       "\n",
       "                         5673        5674         5675         5676  \\\n",
       "Predicted values  1714.058963  619.499968  1014.053572  2287.539564   \n",
       "\n",
       "                        5677         5678        5679       5680  \n",
       "Predicted values  2533.25305  1766.901875  3319.55748  1232.2276  \n",
       "\n",
       "[1 rows x 5681 columns]"
      ]
     },
     "execution_count": 85,
     "metadata": {},
     "output_type": "execute_result"
    }
   ],
   "source": [
    "conclusion"
   ]
  },
  {
   "cell_type": "code",
   "execution_count": null,
   "id": "c18e7821",
   "metadata": {},
   "outputs": [],
   "source": []
  }
 ],
 "metadata": {
  "kernelspec": {
   "display_name": "Python 3",
   "language": "python",
   "name": "python3"
  },
  "language_info": {
   "codemirror_mode": {
    "name": "ipython",
    "version": 3
   },
   "file_extension": ".py",
   "mimetype": "text/x-python",
   "name": "python",
   "nbconvert_exporter": "python",
   "pygments_lexer": "ipython3",
   "version": "3.8.8"
  }
 },
 "nbformat": 4,
 "nbformat_minor": 5
}
